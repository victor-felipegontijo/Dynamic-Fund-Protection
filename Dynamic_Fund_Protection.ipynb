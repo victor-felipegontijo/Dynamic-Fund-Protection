{
 "cells": [
  {
   "cell_type": "markdown",
   "metadata": {},
   "source": [
    "# Project: Dynamic Fund Protection - Simulations and Pricing Methods"
   ]
  },
  {
   "cell_type": "markdown",
   "metadata": {},
   "source": [
    "**By: Victor Felipe Gontijo - Quantitative research intern - BNP Paribas - Paris**\n",
    "\n",
    "**Proposed by: Jean-Philippe Lemor - Head of systematic strategies and hybrids quantitative research team - BNP Paribas - Paris**\n",
    "\n",
    "**July 2020**"
   ]
  },
  {
   "cell_type": "markdown",
   "metadata": {},
   "source": [
    "## Dynamic Fund Protection"
   ]
  },
  {
   "cell_type": "markdown",
   "metadata": {},
   "source": [
    "In this project, we aim to develop and extend some ideas presented in the paper:\n",
    "\n",
    "*Junich Imai, Phelim P. Boyle, Dynamic fund protection. With a discussion by Hans U. Gerber and Elias S. W. Shiu (July, 2001)*\n",
    "\n",
    "We develop here the main concepts involving a derivative product, named *Dynamic Fund Protection*. We intend, therefore, to properly define *Dynamic Fund Protections* as a class of financial products and, along with this definition, we also discuss some motivations around their most common uses and, present pricing methods for them. At a second moment, we develop and show some computational tools that allow us to numerically calculate prices for a *Dynamic Fund Protection*, as well as, to simulate its performance under different market outcomes."
   ]
  },
  {
   "cell_type": "markdown",
   "metadata": {},
   "source": [
    "## Context"
   ]
  },
  {
   "cell_type": "markdown",
   "metadata": {},
   "source": [
    "In this day and age, when individuals and instituitions get more and more access to information, they also tend to be increasingly concerned about their future, as well as, the choices they can make, to effectively plan it. In this perspective, financial planning has become a major issue in today's societies and, individuals and institutions are more and more encouraged to look for financial solutions that meet their particular needs, aspirations and future projects.\n",
    "\n",
    "Finance is more than ever adressed with the problem to develop new custom-designed products, fucused on dealing with different kinds of risk, time horizons, and expected returns. The product we present here, the *Dynamic Fund Protection*, was first introduced by: *Gerber and Shiu (1998, 1999)*. It was initially conceived for portfolios based in units/shares of investment funds and, designed to provide protection against downwards moves affecting the value of those units/shares.\n",
    "\n",
    "Investiment funds have been, for a long while, a great alternative, when it comes to get exposition to financial investments. It makes investments much more accessible to general investors and, as a consequence, they reveal themselves as important means of collecting imense quantities of capital, which are immediately driven to reincorporate the economical activity and enhance the potential of the market. As an exemple, we may imagine the huge economical impact of the well-knowns american pension-funds.\n",
    "\n",
    "Investment funds also serve as important tools to regroup several market actors that share the same investment strategies. It makes much easier and effective to track an index, or to invest in small-caps, for example. A fact is: each kind of fund has its own profile, which makes sometimes hard for a particular investor to find a fund meeting exactly his requirements. In order to provide a solution for this issue, many insurance and banking companies have been looking at those requirements and developing more custom products that make them more achievable.\n",
    "\n",
    "Let's approach the \"retirement-problem\", in order to draw an example. This example will lead us to understand a context and a motivation for developing Dynamic Fund Protections.\n",
    "\n",
    "One looking to make financial plannings on his own retirement, is someone who considers to invest, in a long-term perspective, a small part of his periodic income, during the most part of his life. For sure, this person also expects those long-term returns to be certain and high enough to provide him, when he no longer intends to work. \n",
    "\n",
    "For many years, those in a such position would surely look for pension-funds with conservative characteristics. As interest rates have become low, however, such returns have been no longer expected to be \"high enough\" and people looking for retirement options started shifting to funds with more risky characteristics. Well, with the risk factor as a contrast, the expected returns have became no longer \"certain\" as they were. "
   ]
  },
  {
   "cell_type": "markdown",
   "metadata": {},
   "source": [
    "## Motivation"
   ]
  },
  {
   "cell_type": "markdown",
   "metadata": {},
   "source": [
    "A Dynamic Fund Protection is a financial product designed for someone who intends to limit his losses against downwards moves that may eventually affect the value of his units, in some investment fund. More than this, the product is also designed to allow such a person to profit, at any time, from the appreciation on the value of his units.\n",
    "\n",
    "When we think about downside protection, it is very natural to think about Put Options. In the context of the example, European Put Options are even more natural to think, once people have usually a determined retirement date. Dynamic Fund Protection, as we may see, works as an extension of a European Put. \n",
    "\n",
    "Payoffs of European Put options are completely determined by the underlying's price at the maturity date. It implies that, different underlying's paths, with equal prices at the maturity, will have exactly the same payoff. This characteristic is sometimes not desirable and Dynamic Fund Protections addresses a solution for it, making upside profits equally possible.\n",
    "\n",
    "The following image shows the price evolution of units of a ETF, tracking the *S&P 500* index. Let's imagine a person that decided to make his own financial planning for retirement. For this purpose, this person buys some units of the following ETF, as a way of tracking the *S&P 500*, but the person also buy European Put Options with strike $K$, on the index options, as a form of downside protection.\n",
    "\n",
    "<img src=\"files/Scenario1.png\">\n",
    "\n",
    "Evidently, neither would this person profit from his Put Option potential concerning downwards moves, nor would he profit from the market's great recovery. As we may see later, a porfolio with units of the correspondent ETF and a Dynamic Fund Protection, having this ETF as underlying, is designed to be very performant in this scenario."
   ]
  },
  {
   "cell_type": "markdown",
   "metadata": {},
   "source": [
    "## The *Protected Portfolio*"
   ]
  },
  {
   "cell_type": "markdown",
   "metadata": {},
   "source": [
    "Let $[0,T]$ be the interval in which we want to define a derivative named Dynamic Fund Protection. Consider $T$ to be its maturity date and the only exercise date allowed. Before defining this derivative, we will first explore a new concept: the *protected portfolio*.\n",
    "\n",
    "Let $I$ be the interval $[0,T]$, then consider two stochastic processes $S = \\{S_t\\}_{t \\in I}$ and $F = \\{F_t\\}_{t \\in I}$. For every $t \\in I$, $S_t$ and $F_t$ are random variables defined over a same probability space $(\\Omega ,{\\mathcal {F}},P)$. $S$ and $F$ will represent the value of two different portfolios over time:\n",
    "\n",
    "<br/>\n",
    "<dl>\n",
    "  <dd>$S$: represents the value of a portfolio composed by $1$ unit of a given investment fund.</dd>\n",
    "  <dd>$F$: represents the value of the \"protected portfolio\", which is initially composed only by $1$ unit of the same investment fund.</dd>\n",
    "</dl>\n",
    "\n",
    "Let $K$ be a function of time, defined over $[0,T]$. $K$ may be a deterministic function or even a stochastic process. Intuitively, $K$ is intended to serve as a protection floor.\n",
    "\n",
    "We want to build the **protected portfolio**, such that, the following properties hold:\n",
    "\n",
    "<br/>\n",
    "<dl>\n",
    "  \n",
    "  <dd>$(a)$: $F(0) = S(0)$.</dd>\n",
    "  <dd>$(b)$: If $t \\in [0,T]$ and $F_t > K_t$ $\\Rightarrow \\frac{dF_t}{F_t} = \\frac{dS_t}{S_t}$</dd>\n",
    "  <dd>$(c)$: If $t \\in [0,T]$, $F_t = K_t$, and $\\frac{dS_t}{S_t} \\geq 0$ $\\Rightarrow \\frac{dF_t}{F_t} = \\frac{dS_t}{S_t}$<dd>\n",
    "  <dd>$(d)$: If $t \\in [0,T]$, $F_t = K_t$, and $\\frac{dS_t}{S_t} < 0$ $\\Rightarrow \\frac{dF_t}{F_t} = 0$\n",
    "  \n",
    "</dl>\n",
    "\n",
    "Those properties mean that: whenever $S$ is above $K$, $F$ follows the same dynamics of $S$, in other words, they have the same instantaneous rate of return. On the opposite situation, when $S$ is below $K$, we have two different outcomes: either $S$ has a positive instantaneous rate of return, and so does $F$, with the same magnitude, or $S$ has negative instantaneous rate of return, and $F$ does not change its value.\n",
    "\n",
    "Consider some given subset $H \\subseteq [0,T]$. We will call *monitoring points* the elements of $H$.\n",
    "\n",
    "Note that the properties we listed imply: $F_s \\geq K_s$, for every $s \\in H$.\n",
    "\n",
    "Although those properties above can be intuitively understood and really help us capture the main ideia of the *protected portfolio* we want to build, they are not mathematically precise. We mean \"not precise\", in the sense that, $dS_t$ and $dF_t$ are not mathematically defined. For this reason, we will choose an elegant, broader and simpler definition:\n",
    "\n",
    "The **protected portfolio** is defined as portfolio such that, at any instant $t\\in [0,T]$:\n",
    "\n",
    "\\begin{equation*}\n",
    "\\ F_t = S_t\\max(1, \\max\\limits_{s \\in [0,t]}\\frac{K_s}{S_s} )\n",
    "\\label{eq:def_continuous} \\tag{1.0}\n",
    "\\end{equation*}\n",
    "\n",
    "The processes $S$ and $F$ may also be defined only over a finite discrete set of *monitoring points*: $H \\subseteq [0,T]$. In this case we use following definition for the **protected portfolio**:\n",
    "\n",
    "\\begin{equation*}\n",
    "\\ F_t = S_t\\max(1, \\max\\limits_{s\\leq t: s \\in H}\\frac{K_s}{S_s} )\n",
    "\\label{eq:def_discrete} \\tag{1.1}\n",
    "\\end{equation*}\n",
    "\n",
    "for any instant $t\\in H$.\n",
    "\n",
    "We invite the reader to play with these last definitions and convince himself that they really match all the intuitive properties we expected.\n",
    "\n",
    "**In practice**, such a *protected portfolio* could be constructed by the following procedure:\n",
    "\n",
    "<br/>\n",
    "<dl>\n",
    "  \n",
    "  <dd>(1) Define a set $H$ of *monitoring times* and start a portfolio with 1 unit of a given investment fund.</dd>\n",
    "  <dd>(2) At every *monitoring time* $t$ , check the value of this portfolio.</dd>\n",
    "  <dd>(3) If this value is below $K_t$: buy enough units of the fund, such that: the total new value of the portfolio is now equal to $K_t$. <dd>\n",
    "  \n",
    "</dl>\n",
    "\n",
    "Evidently, this is not a self-financing strategy. \n",
    "\n",
    "In the practical aspect, we can regard the construction of a *protected portfolio* as a strategy that can be as interesting for clients, like we show at the last section (try to imagine how a protected portfolio would perform in the scenario of the last image), as it can be for banks, who can sell them in exchange for a certain premium."
   ]
  },
  {
   "cell_type": "markdown",
   "metadata": {},
   "source": [
    "## The Unit Value as a Stochatic Process $S$"
   ]
  },
  {
   "cell_type": "markdown",
   "metadata": {},
   "source": [
    "We have defined $S$ as a general stochastic process over $[0,T]$. For the purposes of the theory and the applications we intend to develop in this project, we investigate Dynamic Fund Protections under the assumption that $S$ is a difusion process, fitting the following general form:\n",
    "\n",
    "\\begin{equation*}\n",
    "\\ \\it{dS_t} = \\mu_t S_t\\it{dt} + \\sigma_t S_t\\it{dW_t}\n",
    "\\label{eq:risky_dynamics} \\tag{2}\n",
    "\\end{equation*}\n",
    "\n",
    "We will also consider the filtration $\\{\\mathcal {F_t}\\}_{t \\in I}$ generated by the Brownian Motion. As a consequence of the definition $S_t$ is $\\mathcal {F_t}$-measurable.\n",
    "\n",
    "In our context, $S$ represents the value of a single unit of a given fund. We suppose that this unit does not pay dividend. In the case of payment of dividend yields at a constant rate $q$, all the results we provide are easily adaptable.\n",
    "\n",
    "**Note**:\n",
    "The reader should note, for example, that the stochastic differential equation above only have a mathematical sense when regarded as an integral equation:\n",
    "\n",
    "$\\it{dS_t} = \\mu_t S_t\\it{dt} + \\sigma_t S_t\\it{dW_t}$ means $S$ is a stochastic process that satifies : $S_{t+u} - S_t = \\int_t^{t+u}S_v\\mu_v\\it{dv} + \\int_t^{t+u}S_v\\sigma_v\\it{dW_v}$ over some considered domain.\n",
    "\n",
    "Let $t,u \\in I$, the integrals above are well-defined and have the following meanings:\n",
    "\n",
    "For each $\\omega \\in \\Omega$, we have a map $A_\\omega$ from $[t, t+u]$ to $\\mathbb{R}$, such that, $A_\\omega: v \\mapsto S_v(\\omega)\\mu_v(\\omega)$. If, for every $\\omega \\in \\Omega$, each $A_\\omega$ is continuous almost everywhere, so $\\int_t^{t+u}S_v(\\omega)\\mu_v(\\omega)\\it{dv}$ is a well-defined Riemman-Integral. In this case, $\\int_t^{t+u}S_v\\mu_v\\it{dv}$ is constructed \"path-wise\" and, with the necessary measurability requirements, it is a well-defined random variable over $(\\Omega ,{\\mathcal {F}},P)$. \n",
    "\n",
    "If $S\\sigma$ is adapted to the filtration generated by the Brownian Motion and it belongs to $L^2(\\Omega \\times [0,T])$, thus $\\int_t^{t+u}S_v\\sigma_v\\it{dW_v}$ is a well-defined Ito's integral, with respect to the Brownian Motion. The integral $\\int_t^{t+u}S_v\\sigma_v\\it{dW_v}$ is also a random variable over $(\\Omega ,{\\mathcal {F}},P)$, but is defined as a $L^2$ limit, rather than \"path-wise\" like the first one. "
   ]
  },
  {
   "cell_type": "markdown",
   "metadata": {},
   "source": [
    "## Simulations of $F$ and $S$ (supposed to be log-normal)"
   ]
  },
  {
   "cell_type": "markdown",
   "metadata": {},
   "source": [
    "In order to gain some intuition about the *protected portfolio* we have just defined, we will play some simulations, so we can see how it is expected to behave in different market outcomes.\n",
    "\n",
    "For the first group of simulations, we consider $K$ being a constant function of time and we also consider $S$ following a Geometric Brownian Motion. This means equation 2.0 gets reduced to the simpler case in which $\\mu_t \\equiv \\mu $ and $\\sigma_t \\equiv \\sigma$, with $\\mu$ and $\\sigma$ constants.\n",
    "\n",
    "This is the simplest case we could treat, and that's why we start with it. In sequence, we will develop a pricing method for a Dynamic Fund Protection under these conditions, and then, we will progressively consider more complex cases."
   ]
  },
  {
   "cell_type": "markdown",
   "metadata": {},
   "source": [
    "### General Parameters of the Investment"
   ]
  },
  {
   "cell_type": "code",
   "execution_count": 1,
   "metadata": {},
   "outputs": [],
   "source": [
    "#Investment Horizont - Years\n",
    "years = 5\n",
    "\n",
    "#Annual interest rate\n",
    "r = 0.1\n",
    "\n",
    "#Initial value of a single unit\n",
    "S_0 = 20"
   ]
  },
  {
   "cell_type": "markdown",
   "metadata": {},
   "source": [
    "### Protected Portfolio Parameters"
   ]
  },
  {
   "cell_type": "code",
   "execution_count": 2,
   "metadata": {},
   "outputs": [],
   "source": [
    "# K  -(constant barrier)\n",
    "K = 16\n",
    "\n",
    "# Number of times per day the portfolio is monitored \n",
    "checks_per_day = 10"
   ]
  },
  {
   "cell_type": "code",
   "execution_count": 3,
   "metadata": {},
   "outputs": [],
   "source": [
    "# Code parameters\n",
    "import numpy as np\n",
    "\n",
    "dt = 1/(365*checks_per_day)\n",
    "size = int(years/dt) + 1\n",
    "checking_instants = np.array(range(0,size))*dt"
   ]
  },
  {
   "cell_type": "markdown",
   "metadata": {},
   "source": [
    "### Model Parameters - Geometric Brownian Motion"
   ]
  },
  {
   "cell_type": "code",
   "execution_count": 4,
   "metadata": {},
   "outputs": [],
   "source": [
    "# Drift\n",
    "mu = -0.15\n",
    "\n",
    "# Volatility\n",
    "sigma = 0.2"
   ]
  },
  {
   "cell_type": "code",
   "execution_count": 5,
   "metadata": {},
   "outputs": [],
   "source": [
    "#### Importing file \"Dynamic_Fund_Protection.py\""
   ]
  },
  {
   "cell_type": "code",
   "execution_count": 6,
   "metadata": {},
   "outputs": [],
   "source": [
    "from Plot import plot\n",
    "from Plot import plot_superimpose\n",
    "from Protected_Portfolio import Geometric_Brownian_Motion\n",
    "from Protected_Portfolio import Gen_K\n",
    "from Protected_Portfolio import Gen_F"
   ]
  },
  {
   "cell_type": "markdown",
   "metadata": {},
   "source": [
    "### Simulating a Geometric Brownian Motion path of $S$, over the chosen period"
   ]
  },
  {
   "cell_type": "code",
   "execution_count": 7,
   "metadata": {},
   "outputs": [
    {
     "data": {
      "image/png": "[encoded data removed]",
      "text/plain": [
       "<Figure size 1080x576 with 1 Axes>"
      ]
     },
     "metadata": {
      "needs_background": "light"
     },
     "output_type": "display_data"
    }
   ],
   "source": [
    "S = Geometric_Brownian_Motion(S_0, mu, sigma, checking_instants)\n",
    "plot('Log-normal S path:', S, dt, 'red')"
   ]
  },
  {
   "cell_type": "markdown",
   "metadata": {},
   "source": [
    "### Determining the correspondent path of $F$, with respect to the simulated path of $S$, over the chosen period"
   ]
  },
  {
   "cell_type": "code",
   "execution_count": 8,
   "metadata": {},
   "outputs": [
    {
     "data": {
      "image/png": "[encoded data removed]",
      "text/plain": [
       "<Figure size 1080x576 with 1 Axes>"
      ]
     },
     "metadata": {
      "needs_background": "light"
     },
     "output_type": "display_data"
    }
   ],
   "source": [
    "K_floor = Gen_K(K, checking_instants)\n",
    "F = Gen_F(S,K)\n",
    "\n",
    "plot('F-correspondent path (Log-normal S)', F, dt, 'green')"
   ]
  },
  {
   "cell_type": "markdown",
   "metadata": {},
   "source": [
    "### Comparison between $S$ and the *protected portfolio* $F$, over the chosen period"
   ]
  },
  {
   "cell_type": "code",
   "execution_count": 9,
   "metadata": {},
   "outputs": [
    {
     "data": {
      "image/png": "[encoded data removed]",
      "text/plain": [
       "<Figure size 1080x576 with 1 Axes>"
      ]
     },
     "metadata": {
      "needs_background": "light"
     },
     "output_type": "display_data"
    }
   ],
   "source": [
    "plot_superimpose('Log-normal S path x Correspondent Protected Portfolio F x K barrier', S , F, K_floor, dt)"
   ]
  },
  {
   "cell_type": "code",
   "execution_count": 10,
   "metadata": {},
   "outputs": [
    {
     "name": "stdout",
     "output_type": "stream",
     "text": [
      "Absolute difference in the final values between the \"protected\" and \"non-protected\" portfolio: 10.850287667118376\n",
      "Relative difference in the final values between the \"protected\" and \"non-protected\" portfolio: 1.6376256699750376\n"
     ]
    }
   ],
   "source": [
    "l = len(S)\n",
    "print('Absolute difference in the final values between the \"protected\" and \"non-protected\" portfolio: ' + str(F[l-1] - S[l-1]))\n",
    "print('Relative difference in the final values between the \"protected\" and \"non-protected\" portfolio: ' + str((F[l-1] - S[l-1])/S[l-1]))"
   ]
  },
  {
   "cell_type": "markdown",
   "metadata": {},
   "source": [
    "## Dynamic Fund Protections"
   ]
  },
  {
   "cell_type": "markdown",
   "metadata": {},
   "source": [
    "We define now a derivative named Dynamic Fund Protection. This derivative has $S$ as its underlying asset and $T$ as its maturity, which is, in fact, its only exercise date.\n",
    "\n",
    "Let $X = \\{X_t\\}_{t \\in I}$ be the stochastic process defined $I$, representing the value of such a Dynamic Fund Protection, with underlying $S$ and maturity $T$.\n",
    "\n",
    "So far, we have discussed the processes $S$ and $F$. Indeed, $X$ is defined to be a derivative such that: at the maturity $T$, it has the following payoff: \n",
    "\n",
    "\\begin{equation*}\n",
    "\\ X_T = F_T - S_T\n",
    "\\label{WQ_def} \\tag{3}\n",
    "\\end{equation*}\n",
    "\n",
    "When we discussed the *protected portfolio* and how it can be constructed *in practice*, we also discussed why it could be an interesting financial product both for buyers and sellers. Note however, that constructing a *protected portfolio* by the procedure we showed, can be indeed, more difficult than it seems. As the *protected portfolio* is not self-financing, it requires the seller to always have available liquidities during the investment period. Another negative point is that the transaction costs may be not negligeable.\n",
    "\n",
    "Those difficults show that, although *protected portfolios* are interesting financial products in theory, they can become costly to construct in practice. Well, the Dynamic Fund Protection, as we defined, provides an easy solution for this issue. With a Dynamic Fund Protection one can now replicates the payoff of a theoretical *protected portfolio* defined over a desired investment period, without the necessity of constructing such portfolio in real. If one nows desire to have a *protected portfolio*, one could simply buy a simple unit of a chosen fund and a Dynamic Fund Protection for the same fund and the same maturity."
   ]
  },
  {
   "cell_type": "markdown",
   "metadata": {},
   "source": [
    "## Pricing Dynamic Fund Protections"
   ]
  },
  {
   "cell_type": "markdown",
   "metadata": {},
   "source": [
    "In order to price Dynamic Fund Protections, that is, to determine a premium for which a bank or any other seller should be willing to sell a Dynamic Fund Protection, we will use the concepts of non-arbitrage pricing and, neutral risk valuation.\n",
    "\n",
    "We first develop the theoretical framework of Neutral Risk Valuation for general derivatives, and then, we apply these ideias speciffically to Dynamic Fund Protections. "
   ]
  },
  {
   "cell_type": "markdown",
   "metadata": {},
   "source": [
    "   ### Neutral Risk Valuation - General Framework"
   ]
  },
  {
   "cell_type": "markdown",
   "metadata": {},
   "source": [
    "#### First Assumptions"
   ]
  },
  {
   "cell_type": "markdown",
   "metadata": {},
   "source": [
    "Let $V = \\{V_t\\}_{t \\in I}$ be a stochastic process defined in $I$, representing the value of a general derivative of $S$ over that period. The payoff generated by this derivative depends on the particular path followed by $S$. By the non-arbitrage principle, at the maturity date $T$, $V_T$ is necessarly equal the payoff of the derivative. \n",
    "\n",
    "Let $r = \\{r_t\\}_{t \\in I}$ be a stochastic process defined $I$, representing the instantaneous spot interest rate over that period. \n",
    "\n",
    "$V$ and $r$ are defined over $(\\Omega ,{\\mathcal {F}},P)$ and considered $\\{\\mathcal {F_t}\\}_{t \\in I}$-adapted.\n",
    "\n",
    "Let us now suppose the existence of a stochastic process $\\Delta = \\{\\Delta_t\\}_{t \\in I}$, also defined in $I$, such that:\n",
    "\n",
    "<br/>\n",
    "<dl>\n",
    "  \n",
    "  <dd>(1) $\\Delta$ is $\\{\\mathcal {F_t}\\}_{t \\in I}$-adapted.</dd>\n",
    "  <dd>(2) $\\Delta$ defines a self-financing portfolio in $I$. At any instant $t\\in I$, this self-financing portfolio is composed by: $\\Delta_t$ shares of $S$ and the rest invested/borrowed from a money-market account.</dd>\n",
    "  <dd>(3) At any instant $t\\in I$, this self-financing portfolio is a perfect hedge for a short position taken in the derivative.<dd>\n",
    "  \n",
    "</dl>\n",
    "\n",
    "Those properties mean that: If $\\Delta$ exists, one can exactly replicate the payoff of the derivative by constructing the described self-financing portfolio. By the non-arbitrage principle, at instant $t\\in I$, the value of self-financing portfolio should be equal to $V_t$.\n",
    "\n",
    "The existence of a process $\\Delta$, under some sufficiently general conditions can be proved with the Martingale Representation Theorem. Assuming such existence, the relation between the value of the self-financing portfolio and $V$ implies:\n",
    "\n",
    "\\begin{equation*}\n",
    "\\ \\it{dV_t} = \\Delta_t \\it{dS_t} + r_t(V_t - \\Delta_tS_t)\\it{dt}\n",
    "\\tag{3}\n",
    "\\end{equation*}"
   ]
  },
  {
   "cell_type": "markdown",
   "metadata": {},
   "source": [
    "#### The Discounted Value of S  and V"
   ]
  },
  {
   "cell_type": "markdown",
   "metadata": {},
   "source": [
    "Let $D = \\{D_t\\}_{t \\in I}$ be a stochastic process defined in $I$, representing the discounting factor between $0$ and $t\\in I$.\n",
    "\n",
    "\\begin{equation*}\n",
    "\\ D_t := exp( -\\int_0^{t}r_u\\it{du} ) \n",
    "\\label{discounting_def} \n",
    "\\end{equation*}\n",
    "\n",
    "At the instant $t\\in I$, the discounted value of $S$ is $D_tS_t$, and we are interested at the dynamics of this process. $DS$ is the exponential of an Ito's Process, and with the use of Itô's formula we can deduce these dynamics under the probablity space $(\\Omega ,{\\mathcal {F}},\\mathbb{P})$:\n",
    "\n",
    "\\begin{equation*}\n",
    "\\ \\it{d}(D_tS_t) = \\sigma_tD_tS_t[\\Theta_t\\it{dt} + \\it{dW_t}] \n",
    "\\label{discounted_s_diff} \\tag{4.0}\n",
    "\\end{equation*}\n",
    "\n",
    "where $\\Theta$ is another process called *risk premium process*, defined by:\n",
    "\n",
    "\\begin{equation*}\n",
    "\\ \\Theta_t := \\frac{\\mu_t - r_t}{\\sigma_t} \n",
    "\\label{theta_def} \n",
    "\\end{equation*}\n",
    "\n",
    "In order to determine the dynamics of the discounted value of $V$, we proceed by substituting equation (2) in equation (3). By doing this, we see that $V$ is indeed an Itô's process and the same is true for the product $DV$. Applying the Itô's formula for the product we get to a very similar relation:\n",
    "\n",
    "\\begin{equation*}\n",
    "\\ \\it{d}(D_tV_t) = \\Delta_t\\sigma_tD_tS_t[\\Theta_t\\it{dt} + \\it{dW_t}] \n",
    "\\label{discounted_v_diff} \n",
    "\\end{equation*}\n",
    "\n",
    "that can be simplified to:\n",
    "\n",
    "\\begin{equation*}\n",
    "\\ \\it{d}(D_tV_t) = \\Delta_t\\it{d}(D_tS_t)\n",
    "\\label{discounted_vxs_diff} \\tag{4.1}\n",
    "\\end{equation*}"
   ]
  },
  {
   "cell_type": "markdown",
   "metadata": {},
   "source": [
    "#### Change of Measure - Girsanov's Theorem"
   ]
  },
  {
   "cell_type": "markdown",
   "metadata": {},
   "source": [
    "We will now define a new stochastic process $Z = \\{Z_t\\}_{t \\in I}$, which will be used to construct a new probability measure $\\mathbb{Q}$ over $\\mathcal {F}$, equivalent to $\\mathbb{P}$:\n",
    "\n",
    "\\begin{equation*}\n",
    "\\ Z_t := exp(-\\int_0^t \\Theta_u\\it{dW_u} - \\frac{1}{2}\\int_0^t \\Theta_u^2\\it{du}) \n",
    "\\label{Z_def} \n",
    "\\end{equation*}\n",
    "\n",
    "Under the assumption that the process $\\Theta$ satisfies the Novikov's condition, that is: $\\mathbb{E}[exp ( \\frac{1}{2}\\int_0^t \\Theta_u^2\\it{du})$$]$ $< \\infty$ :\n",
    "\n",
    "The Girsanov Theorem asserts that $Z$ is a martingale under the measure $\\mathbb{P}$. In particular, it ensures that: $\\mathbb{E}[Z_T] = Z_0 = 1$.\n",
    "\n",
    "This allows us to construct a new measure $\\mathbb{Q}$, such that: $\\frac{\\it{d}\\mathbb{Q}}{\\it{d}\\mathbb{P}} = Z_T$, where $\\frac{\\it{d}\\mathbb{Q}}{\\it{d}\\mathbb{P}}$ is a Radon-Nikodym derivative. $Z_T$ is also a positive random variable, which implies $\\mathbb{Q}$ and $\\mathbb{P}$ are equivalent mesures over $\\mathcal {F}$.\n",
    "\n",
    "The Girsanov Theorem states that the process $W^\\mathbb{Q}$, defined below, is a is a Brownian Motion under the measure $W^\\mathbb{Q}$:\n",
    "\n",
    "\\begin{equation*}\n",
    "\\ W_t^\\mathbb{Q} := W_t + \\int_0^t \\Theta_u \\it{du}\n",
    "\\tag{5.0}\n",
    "\\end{equation*}\n",
    "\n",
    "Well, this is a game-changing result. When applied to equation (4.0) it gives the dynamics of the discounted value of $S$, under the new mesure $\\mathbb{Q}$:\n",
    "\n",
    "\\begin{equation*}\n",
    "\\ \\it{d}(D_tS_t) = \\sigma_tD_tS_t\\it{d}W_t^\\mathbb{Q} \n",
    "\\tag{5.1}\n",
    "\\end{equation*}\n",
    "\n",
    "Acording to these new dynamics, $DS$ and $DV$ are martingales under the measure $\\mathbb{Q}$, which we call **neutral-risk measure**. The martingale property ensures that:\n",
    "\n",
    "\\begin{equation*}\n",
    "\\ D_tV_t = \\mathbb{E}^Q [D_T V_T | \\mathcal{F}_t] \n",
    "\\tag{5.2}\n",
    "\\end{equation*}\n",
    "\n",
    "In particular, \n",
    "\n",
    "\\begin{equation*}\n",
    "\\ V_0 = \\mathbb{E}^Q [exp( -\\int_0^{T}r_u\\it{du} )V_T ] \n",
    "\\tag{5.3}\n",
    "\\end{equation*}\n",
    "\n",
    "noting that $V_T$ is equal to the payoff at the maturity date."
   ]
  },
  {
   "cell_type": "markdown",
   "metadata": {},
   "source": [
    "### Pricing of Dynamic Fund Protections under the Black-Scholes Framework "
   ]
  },
  {
   "cell_type": "markdown",
   "metadata": {},
   "source": [
    "In the last section, we have underlined the main ideas concerning the principles of non-arbitrage pricing and neutral-risk valuation. It has been done under the framework of a general diffusion process with stochastic interest rates.\n",
    "\n",
    "Here we apply those ideas in the classical framework of Black-Scholes. In this context, $S$ is supposed to follow a Geometric Brownian Motion and we have a constant interest rate $r$. \n",
    "\n",
    "In our approach, we only consider the simplest case, in which $K$ is constant and pre-determined barrier, but this approach can be also generalized for more complex kinds of barrier.  "
   ]
  },
  {
   "cell_type": "markdown",
   "metadata": {},
   "source": [
    "#### Rewriting the Payoff"
   ]
  },
  {
   "cell_type": "markdown",
   "metadata": {},
   "source": [
    "Let $\\{M_t\\}_{t \\in I}$ be a processus $\\{\\mathcal {F_t}\\}_{t \\in I}$-adapted, defined as:\n",
    "\n",
    "\\begin{equation*}\n",
    "\\ M_t = \\max(1, \\frac{K}{\\min\\limits_{s \\in [0,t]} S_s} )\n",
    "\\label{eq:def_M} \n",
    "\\end{equation*}\n",
    "\n",
    "This definition allows us to rewrite equation (1.0). For any $t \\in I$, we can observe $S$ before and after $t$. More than this, $F_T$ can be determined by comparing the observed results in each one of these two different intervals:\n",
    "\n",
    "\\begin{equation*}\n",
    "\\ F_T = S_T\\max(M_t, \\frac{K}{\\min\\limits_{s \\in [t,T]} S_s} )\n",
    "\\label{eq:FT_rewriting} \n",
    "\\end{equation*}\n",
    "\n",
    "We can rewrite this equation, one more time. Making this comparison still more evident:\n",
    "\n",
    "\\begin{equation*}\n",
    "\\ F_T = S_TM_t +  S_T(\\frac{K}{\\min\\limits_{s \\in [t,T]} S_s} - M_t)^+\n",
    "\\label{eq:FT_rewriting2} \n",
    "\\end{equation*}\n",
    "\n",
    "We use the last equation to write the payoff $X_T$ of the Dynamic Fund Protection, only in function of $S$:\n",
    "\n",
    "\\begin{equation*}\n",
    "\\ X_T = S_T\\{M_t - 1 + (\\frac{K}{\\min\\limits_{s \\in [t,T]} S_s} - M_t)^+ \\}\n",
    "\\tag{6}\n",
    "\\end{equation*}\n",
    "\n",
    "As $M_t$ is $\\mathcal {F_t}$-measurable, for any $t \\in I$, the last equation shows exactly how the payoff $X_T$ is affected in terms of known information, represented by $\\mathcal {F_t}$, and the future information, that we still do not know.\n",
    "\n",
    "**Note:** If we consider the case of a Dynamic Fund Protection discretely monitored, the results obtained so far are pretty much the same."
   ]
  },
  {
   "cell_type": "markdown",
   "metadata": {},
   "source": [
    "#### Change of Numéraire and Construction of a New Martingale Measure"
   ]
  },
  {
   "cell_type": "markdown",
   "metadata": {},
   "source": [
    "By hypothesis, the instantaneous spot interest rate $r$ is constant and $S$ follows log-normal dynamics under the  real-world measure $\\mathbb{P}$: \n",
    "\n",
    "$$\\it{dS_t} = \\mu S_t\\it{dt} + \\sigma S_t\\it{dW_t}$$\n",
    "\n",
    "An idea one could naturally have is to look at the Neutral-Risk Measure $\\mathbb{Q}$, under which, the discounted value of $S$ is a martingale. This is what we have proposed in the general framework of neutral-risk valuation and, for the log-normal dynamics, in particular, one can prove all the necessary hypothesis (existance of $\\Delta$ and Novikov's Condition) are indeed satisfied. This garantees the construction of $\\mathbb{Q}$ which implies a particular version of equation (5.2):\n",
    "\n",
    "\\begin{equation*}\n",
    "\\ X_t = e^{-r(T-t)}\\mathbb{E}^Q [X_T | \\mathcal{F}_t]\n",
    "\\tag{7.0}\n",
    "\\end{equation*}\n",
    "\n",
    "We also know $S$ follows the following dynamics under the Neutral-Risk Measure $\\mathbb{Q}$:\n",
    "\n",
    "$$\\it{dS_t} = rS_t\\it{dt} + \\sigma S_t\\it{d}W_t^\\mathbb{Q}$$\n",
    "\n",
    "When one tries to plug equation (6) inside the conditional expectation of equation (7.0), one gets an non-trivial expectation to calculate analytically. One should also note that: the payoff $X_T$ is, in fact, $S_T$ multiplied by a random factor. This suggests we should maybe use $S$ as a numéraire to express the values of the Dynamic Fund Protection over time.\n",
    "\n",
    "Following this intuition, we will use a similar idea to the one we used on the general neutral-risk approach. We will look, therefore, for a measure $\\mathbb{Q}_s$, under which, the relative price of $X$, with respect to $S$, is a martingale. \n",
    "\n",
    "This procedure should should allow us to determine $X_t$ in terms of a new conditional expectation under $\\mathbb{Q}_s$, thus we expect this new expectation to be easier to deal with. This technique is known as \"change of numéraire\".\n",
    "\n",
    "We will now define a new stochastic process $G = \\{G_t\\}_{t \\in I}$, which will be used to construct a new probability measure $\\mathbb{Q}_s$ over $\\mathcal {F}$, equivalent to $\\mathbb{Q}$:\n",
    "\n",
    "$$ G_t := exp(\\sigma W_t^\\mathbb{Q} - \\frac{1}{2}\\sigma^2t) = \\frac{S_t}{e^{rt}S_0}$$\n",
    "\n",
    "Note that, $G$ is always positive and $G$ is also a martingale over $\\mathbb{Q}$. The martigale property comes from the fact that the discounted value of $S$ is a martingale over $\\mathbb{Q}$. It immediatelly implies that $\\mathbb{E}^{\\mathbb{Q}} [G_T] = 1$. \n",
    "\n",
    "In this context, we define $\\mathbb{Q}_s$ such that:\n",
    "\n",
    "$$\\frac{\\it{d}\\mathbb{Q}_s}{\\it{d}\\mathbb{Q}} = G_T$$\n",
    "\n",
    "where $\\frac{\\it{d}\\mathbb{Q}_s}{\\it{d}\\mathbb{Q}}$ is a Radon-Nikodym derivative.\n",
    "\n",
    "Let $t,u \\in I$ such that: $t < u$. Let Y be some $\\mathcal{F}_u$-measurable random variable. The definitions of $\\mathbb{Q}_s$ and $G$, as well as, the latter's martingale property imply the following equality:\n",
    "\n",
    "$$ \\mathbb{E}^{Q_s}[ Y | \\mathcal{F}_t] = \\frac{1}{G_t}\\mathbb{E}^{Q}[ YG_u | \\mathcal{F}_t] $$\n",
    "\n",
    "Well, by combining this last equality with equation (7.0) and the expression $G_t = \\frac{S_t}{e^{rt}S_0}$, we can  can easily show that $\\frac{X}{S}$ is a martingale under the new measure $\\mathbb{Q}_s$. This gives us a pricing formula for the Dynamic Fund Protection:\n",
    "\n",
    "\\begin{equation*}\n",
    "\\ X_t = S_t\\mathbb{E}^{Q_s} [\\frac{X_T}{S_T} | \\mathcal{F}_t]\n",
    "\\tag{7.1}\n",
    "\\end{equation*}\n",
    "\n",
    "By the Girsanov's Theorem, we know that the process $W_t^{\\mathbb{Q}_s} := W_t^\\mathbb{Q} - \\sigma t$ is a Brownian Motion under the the measure $\\mathbb{Q}_s$. It implies that $S$ has the following dynamics under the new measure:\n",
    "\n",
    "\\begin{equation*}\n",
    "\\ \\it{dS_t} = (r + \\sigma^2)S_t\\it{dt} + \\sigma S_t\\it{d}W_t^{\\mathbb{Q}_s}\n",
    "\\tag{7.2}\n",
    "\\end{equation*}\n",
    "\n",
    "**Note:** Again, if we consider the case of a Dynamic Fund Protection discretely monitored, the results obtained so far are pretty much the same."
   ]
  },
  {
   "cell_type": "markdown",
   "metadata": {},
   "source": [
    "#### Continuous Monitoring - Analytic Solution"
   ]
  },
  {
   "cell_type": "markdown",
   "metadata": {},
   "source": [
    "In order to derive an analytic solution for the \"pricing-problem\" of a Dynamic Fund Protection, under the Black-Scholes framework, one needs to express $\\mathbb{E}^{Q_s} [\\frac{X_T}{S_T} | \\mathcal{F}_t]$ with some analytical formula. In more complexes frameworks, that is not an easy task and, most times we cannot even be sure if it is possible. \n",
    "\n",
    "Fortunatelly, under the Black-Scholes framework, we can derive an analytic solution for Dynamic Fund Protections continuously monitored. Of course, such products cannot exist in practice, once the units of a fund cannot be continously quoted. From the Mathematical perspective, however, such idealisation allows use to use some powerful results of the theory of stochastic processes over continuous time, such as the distribution of the minimum value of a geometric brownian, over a given interval. \n",
    "\n",
    "By pluging equation (6) in equation (7.0) we obtain:\n",
    "\n",
    "\\begin{equation*}\n",
    "\\ X_t = S_t\\{M_t - 1\\} + S_t\\mathbb{E}^{Q_s} [(\\frac{K}{\\min\\limits_{s \\in [t,T]} S_s} - M_t)^+  | \\mathcal{F}_t]\n",
    "\\tag{8.0}\n",
    "\\end{equation*}\n",
    "\n",
    "This leaves with the challenge to calculate $\\mathbb{E}^{Q_s} [(\\frac{K}{\\min\\limits_{s \\in [t,T]} S_s} - M_t)^+  | \\mathcal{F}_t]$. Note we can split this expectation into two simpler expectations:\n",
    "\n",
    "$$ \\mathbb{E}^{Q_s} [(\\frac{K}{\\min\\limits_{s \\in [t,T]} S_s} - M_t)^+  | \\mathcal{F}_t] = \\mathbb{E}^{Q_s}[\\frac{K}{\\min\\limits_{s \\in [t,T]} S_s} \\mathbb{1}_{\\{\\frac{K}{\\min\\limits_{s \\in [t,T]} S_s} \\geq M_t\\}}  | \\mathcal{F}_t] - M_t\\mathbb{E}^{Q_s} [\\mathbb{1}_{\\{\\frac{K}{\\min\\limits_{s \\in [t,T]} S_s} \\geq M_t\\}} | \\mathcal{F}_t]$$\n",
    "\n",
    "where $\\mathbb{1}_{\\{A\\}}(\\omega)$ is the indicator function. It values $1$ if $\\omega \\in A$ and $0$ otherwise.\n",
    "\n",
    "Let $\\mu^* := r + \\frac{\\sigma^2}{2}$ and $\\tau := T-t$. \n",
    "\n",
    "Let  $F(x) = \\mathbb{Q}_s (\\min\\limits_{s \\in [t,T]}S_s \\leq x   | S_t )$ be the cumulative distribuition function of $\\min\\limits_{s \\in [t,T]} S_s$ under $\\mathbb{Q}_s$. This function is given$^{[1]}$ by:\n",
    "\n",
    "\\begin{equation*}\n",
    " F(x) = \\Phi(\\frac{-\\mu^*\\tau + log(\\frac{x}{S_t})}{\\sigma \\sqrt{\\tau}}) + (\\frac{S_t}{x})^{\\frac{-2\\mu^*}{\\sigma^2}}\\Phi(\\frac{\\mu^*\\tau + log(\\frac{x}{S_t})}{\\sigma \\sqrt{\\tau}})\n",
    "\\tag{8.1}\n",
    "\\end{equation*}\n",
    "\n",
    "defined for $0 < x \\leq S_t$.\n",
    "\n",
    "Note that the second expectation is straightfoward with the definition of the CDF:\n",
    "$$\\mathbb{E}^{Q_s} [\\mathbb{1}_{\\{\\frac{K}{\\min\\limits_{s \\in [t,T]} S_s} \\geq M_t\\}} | \\mathcal{F}_t] = \\mathbb{Q}_s (\\min\\limits_{s \\in [t,T]}S_s \\leq \\frac{K}{M_t} | S_t ) = F(\\frac{K}{M_t})$$\n",
    "\n",
    "By definition of $M$, it is clear that $M_t \\geq \\frac{K}{S_t}$, which implies that: $\\frac{K}{M_t}$ is inside the domain of $F$.\n",
    "\n",
    "F(x) is differentiable over its domain of definition. We will call $F'$ its derivative, which is, in fact, the density of the $\\min\\limits_{s \\in [t,T]} S_s$ distribution. Hence, the first expectation can be expressed as:\n",
    "\n",
    "$$ \\mathbb{E}^{Q_s}[\\frac{K}{\\min\\limits_{s \\in [t,T]} S_s} \\mathbb{1}_{\\{\\frac{K}{\\min\\limits_{s \\in [t,T]} S_s} \\geq M_t\\}}  | \\mathcal{F}_t] = \\int_{0}^{\\frac{K}{M_t}} F'(x)\\frac{K}{x} \\it{dx} $$\n",
    "\n",
    "Integrating by parts we have:\n",
    "\n",
    "$$ \\mathbb{E}^{Q_s}[\\frac{K}{\\min\\limits_{s \\in [t,T]} S_s} \\mathbb{1}_{\\{\\frac{K}{\\min\\limits_{s \\in [t,T]} S_s} \\geq M_t\\}}  | \\mathcal{F}_t] = M_tF(\\frac{K}{M_t}) + \\int_{0}^{\\frac{K}{M_t}} KF(x)\\frac{1}{x^2} \\it{dx}$$\n",
    "\n",
    "Recombining the expressions we obtained for the two expectations in terms of $F$, we have the following expression for the price of a Dynamic Fund Protection, under a log-normal underlying:\n",
    "\n",
    "\\begin{equation*}\n",
    " X_t = S_t\\{M_t - 1\\} + S_tK\\int_{0}^{\\frac{K}{M_t}} F(x)\\frac{1}{x^2} \\it{dx}\n",
    "\\tag{8.2}\n",
    "\\end{equation*}\n",
    "\n",
    "The integral $\\int_{0}^{\\frac{K}{M_t}} F(x)\\frac{1}{x^2} \\it{dx}$ can be calculated using the substitution $x = S_te^v$ and then integrating by parts. The following result is extremelly useful for the calculation: \n",
    "\n",
    "$$\\int_{-\\infty}^b \\Phi(c_1 + c_2v)e^{-c_3v} \\it{dv} = \\frac{1}{c_3}[\\Phi(\\gamma + c_2b)e^{\\frac{1}{2}(\\gamma^2 - \\, c_1^2)} - \\, \\Phi(c_1 + c_2b)e^{-\\, c_3b}]$$\n",
    "\n",
    "with: $\\gamma := c_1 + \\frac{c_3}{c_2}$\n",
    "\n",
    "*Junich Imai and Phelim P. Boyle* present in their paper an elegant final formula, that correspond to equation (8.2) the integral, as we sugested:\n",
    "\n",
    "\\begin{equation*}\n",
    "\\ X_t = S_t\\{M_t\\Phi(d_1) - 1\\} + \\frac{K}{R}\\Phi(d_2)(\\frac{K}{M_tS_t})^R + K(1 - \\frac{1}{R})\\Phi(d_3)e^{r\\tau}\n",
    "\\tag{8.3}\n",
    "\\end{equation*}\n",
    "\n",
    "Where:\n",
    "\n",
    "\\begin{cases}\n",
    "  \\  R:= \\frac{2r}{\\sigma^2}\n",
    "  \\\\ d_1 := \\frac{ -log(\\frac{K}{M_tS_t}) + r\\tau + \\frac{1}{2}\\sigma^2\\tau }{\\sigma\\sqrt{\\tau}}\n",
    "  \\\\ d_2 := \\frac{ log(\\frac{K}{M_tS_t}) + r\\tau + \\frac{1}{2}\\sigma^2\\tau }{\\sigma\\sqrt{\\tau}}\n",
    "  \\\\ d_3 := \\frac{ log(\\frac{K}{M_tS_t}) - r\\tau + \\frac{1}{2}\\sigma^2\\tau }{\\sigma\\sqrt{\\tau}}\n",
    "\\end{cases}\n",
    "\n",
    "**Note:**\n",
    "[1]: A proof for equation (8.2) can be found at: https://www.ntu.edu.sg/home/nprivault/MA5182/maximum-brownian-motion.pdf, page 17. The formula is obtained by removing the drift of the related Brownian Motion (change of measure) and using the results for the maximum/minimum of a standard Brownian Motion, which are themselves obtained by the \"reflexion principle\"."
   ]
  },
  {
   "cell_type": "markdown",
   "metadata": {},
   "source": [
    "#### Continuous Monitoring - Monte Carlo Solution"
   ]
  },
  {
   "cell_type": "markdown",
   "metadata": {},
   "source": [
    "When dealing with expectations such like $\\mathbb{E}^Q [X_T | \\mathcal{F}_t]$, Monte-Carlo methods are definitely one of the most popular approaches. In the case of Dynamic Fund Protections continously monitored, the application of Monte-Carlo methods deserves, indeed, a particular attention.\n",
    "\n",
    "When we look to equation (6), when can note that the payoff of a Dynamic Fund Protection carries some similarities with the payoff of European Lookback call options with floating strike. In both cases, the payoff depends both on the final underlying's price and its minimum value along the monitoring period. In the case of continuous monitoring, the monitoring times are points of an interval.\n",
    "\n",
    "Choose any possible finite discretization of the interval $[0,T]$. Now consider a sample path of $S$, that is: $\\{S_t(\\omega)\\}_{t \\in [0,T]}$, for a given $\\omega \\in \\Omega$. Once $\\{S_t(\\omega)\\}_{t \\in [0,T]}$ is a continue path defined over the compact [0,T], we know its minimum is attained at some $t^*(\\omega) \\in [0,T]$.  \n",
    "\n",
    "In fact, $t^*$ is random variable, which means we can look at its distribution along the interval $[0,T]$. In this sense, let's analyse the following question:\n",
    "\n",
    "For a given finite discretization of [0,T], what is the probability of $t^*$ belonging to one of its points? \n",
    "\n",
    "Well, since finite countable sets have 0 length with respect to the Lebesgue measure, it means, any possible finite discretization will almost surely miss the true minimum of the process. \n",
    "\n",
    "It means that, for each single sample path we want to simulate, a traditional Monte-Carlo method would almost surely miscalculate the true value of $X_T$. As such a Monte-Carlo method works by determining the empirical mean of $X_T$, for several different simulated paths, we also should expect this empirical mean to be a miscalculation of $\\mathbb{E}^{Q_s} [X_T | \\mathcal{F}_t]$, no matter the discretization chosen.\n",
    "\n",
    "In fact, this is a common difficulty when dealing with Monte-Carlo simulations inteded to price \"path-dependent\" derivatives. Barrier options, Lookback options and Dynamic Fund Protections are such an example. In the Black-Scholes framework, however, we have an ellegant and very precise solution, which reveals itself also really fast. \n",
    "\n",
    "The following algorithm is used to evaluate $X_t$ in equation (7.0). It could be equally used to evaluate the $X_t$ in equation (8.0), we would just need to regard $S$ with respect to the measure $\\mathbb{Q}_s$. We show below the steps of this adapted Monte-Carlos algorithm, which we will call **Brownian-Brigde Monte-Carlo**:\n",
    "\n",
    "<br/>\n",
    "<dl>\n",
    "  \n",
    "  <dd>$(1)$: For each simulation trial $i$:</dd>\n",
    "  <dd>&nbsp;&nbsp;&nbsp;&nbsp;&nbsp;&nbsp;$(1.1)$: Define $w_t:= log(S_t)$</dd>\n",
    "  <dd>&nbsp;&nbsp;&nbsp;&nbsp;&nbsp;&nbsp;$(1.2)$: Simulate a sample $S_T^i$ of $S_T$ under the measure $\\mathbb{Q}$</dd>\n",
    "  <dd>&nbsp;&nbsp;&nbsp;&nbsp;&nbsp;&nbsp;$(1.3)$: Define $w_T:= log(S_T^i)$ </dd>\n",
    "  <dd>&nbsp;&nbsp;&nbsp;&nbsp;&nbsp;&nbsp;$(1.4)$: Draw a sample $u$ of a random variable unifomly distributed in the interval [0,1)</dd>\n",
    "  <dd>&nbsp;&nbsp;&nbsp;&nbsp;&nbsp;&nbsp;$(1.5)$: Define $w_{min}:= \\frac{1}{2}( w_t + w_T - \\sqrt{ (w_t - w_T)^2 - 2(T-t)log(u)\\sigma^2} )$</dd>\n",
    "  <dd>&nbsp;&nbsp;&nbsp;&nbsp;&nbsp;&nbsp;$(1.6)$: Define $S_{min}:= e^{w_{min}}$</dd>\n",
    "  <dd>&nbsp;&nbsp;&nbsp;&nbsp;&nbsp;&nbsp;$(1.7)$: Set the discounted simulated payoff as $Pf_{dis}^i = e^{-r(T-t)}S_T^i( max \\{ M_t, \\frac{K}{S_{min}} \\} - 1)$  </dd>\n",
    "  <dd>$(2)$: Return the empirical mean of all $Pf_{dis}^i$ </dd>\n",
    "    \n",
    "</dl>\n",
    "This value corresponds to $X_t$, as shows equation (7.0).\n",
    "  \n",
    "  "
   ]
  },
  {
   "cell_type": "markdown",
   "metadata": {},
   "source": [
    "##### Explanation of the **Brownian-Brigde Monte-Carlo** Algorithm"
   ]
  },
  {
   "cell_type": "markdown",
   "metadata": {},
   "source": [
    "The algorithm presented above, the Brownian-Bridge Monte-Carlo Algorithm is particularly suited to the kind of expectation we want to calculate. For each simulation trial $i$, we first simulate the underlying's final price $S_T^i$. Then, we proceed by simulating the minimum of the underlying $S_{min}$, conditionated to its initial and final positions: $S_t$ and $S_T^i$ respectively. This allows us to simulate, at the end of each iteration, the discounted payoff under the Risk-Neutral measure $\\mathbb{Q}$, for a particular sample path.\n",
    "\n",
    "In the Black-Scholes framework, where the underlying is supposed to have a log-normal distribuition, this is a very good approach, once we just have to be able to simulate the minimum of a drifted-brownian-bridge, conditionated to an initial and a final position: $w_t$ and $w_T$ respectively. In fact, simulating such minimum is not a problem at all, once its distribution is well known and can be expressed through a closed formula. The following explanation shows how this can be done.\n",
    "\n",
    "Consider $w$ a scaled Brownian Motion starting at $w_t$. Basically, $w_s := w_t + \\sigma W_{s-t}^\\mathbb{Q}$ for every $s \\in [t, T]$. Now consider the event $E = \\{\\omega \\in \\Omega: w_t(\\omega) = a, w_T(\\omega) = b\\}$, it is the set of all sample paths with extremities $a$ and $b$. A process $B$ called Brownian-Bridge is defined in terms of $w$ and two fixed extremities. In fact, it is defined as a process whose distribuition is equal to the conditional distribution of $w$, knowing $E$. \n",
    "\n",
    "Let $B$ be such a Brownian-Bridge defined over $[t, T]$, it has the following defining property: \n",
    "\n",
    "For every Borel-Set A of $[t,T]$ and for every $s \\in [t, T]$: $\\mathbb{Q}( B_s \\in A) = \\mathbb{Q}( w_s \\in A | w_t = a, w_T = b) $\n",
    "\n",
    "Well, one can prove that such a process does exist and more than that, one can also prove its minimum $B_{min}$ along the interval $[t, T]$ can be expressed through a closed formula:\n",
    "\n",
    "The cumulative distribution function of $B_{min}$, under $\\mathbb{Q}$ is given by$^{[2]}$:\n",
    "\n",
    "\\begin{equation*}\n",
    "\\ G_{a,b}(x) = \\mathbb{Q}( B_{min} \\leq x) = exp( \\frac{-2(a-x)(b-x)}{\\sigma^2(T-t)} \\mathbb{1}_{\\{x < min\\{a,b\\}\\} })\n",
    "\\tag{9.0}\n",
    "\\end{equation*}\n",
    "\n",
    "Well, this is a great result, once it allows us to draw samples of the minimum of the process $w$ conditioned to the event $E$. For this purpose, we need to be able to invert equation (9). With a random uniformly distributed variable in $[0,1)$ and $G_{a,b}^{-1}$, we can easily draw samples of $B_{min}$ following its distribution. This technique is know as: *Inverse Transform Sampling*. The inverse of equation (9) is:\n",
    "\n",
    "\\begin{equation*}\n",
    "\\ G_{a,b}^{-1}(u) = \\frac{1}{2}( a + b - \\sqrt{(a - b)^2 - 2(T-t)log(u)\\sigma^2} )\n",
    "\\tag{9.1}\n",
    "\\end{equation*}\n",
    "\n",
    "One can also prove$^{[3]}$ that: if the process $w$ had a constant drift rate, this would not have any significance. Therefore, equations (9.0) and (9.1) would remain exactly the same.\n",
    "\n",
    "With these results, we are able to simulate the minimum of a Geometric Brownian Motion, conditioned to initial and final positions, which is exactly what the payoff of a Dynamic Fund Protection requires.\n",
    "\n",
    "Under the Neutral-Risk Measure $\\mathbb{Q}$, we have:\n",
    "\n",
    "$$ S_s = S_t exp( (r - \\frac{\\sigma^2}{2})(s-t) + \\sigma W_s^\\mathbb{Q}) $$\n",
    "\n",
    "$$ log(S_s) = log(S_t) + (r - \\frac{\\sigma^2}{2})(s-t) + \\sigma W_s^\\mathbb{Q} $$\n",
    "\n",
    "We define, in this case $w := log(S)$ and apply the *Inverse Transform Sampling* technique we discussed. This is the content of the **Brownian-Bridge Monte-Carlo Algorithm**. In fact, this is a very precise and extremely fast algorithm. Indeed, for each simulation trial $i$, we just have to simulate the final position $S_T^i$ and draw a sample from an uniformly distributed random variable in [0,1).\n",
    "\n",
    "**Note:**\n",
    "\n",
    "[1]: *A. Alabert & R. Caballero, On the minimum of a conditionated Brownian Bridge* - Equation 3\n",
    "\n",
    "[2]: *L. Beghin and E. Orsingher, On The Maximum of the Generalized Brownian Bridge, Lithuanian Mathematical Journal, Vol. 39, No. 2, 1999* - Equation 3.3"
   ]
  },
  {
   "cell_type": "markdown",
   "metadata": {},
   "source": [
    "##### Dynamic Fund Protection Continously Monitored - Pricing Simulations under Black Scholes Framework"
   ]
  },
  {
   "cell_type": "markdown",
   "metadata": {},
   "source": [
    "We present below numerical applications of three approaches discussed for the pricing of Dynamic Fund Protections Continously Monitored under the Black-Scholes Framework. They are: \n",
    "\n",
    "<br/>\n",
    "<dl>\n",
    "  \n",
    "  <dd>$(1)$: The analytic solution, expressed through formula (8.3)</dd>\n",
    "  <dd>$(2)$: The Brownian-Bridge Monte-Carlo solution</dd>\n",
    "  <dd>$(3)$: The traditional Monte-Carlo approach with discrete sample paths</dd>\n",
    "    \n",
    "</dl>\n"
   ]
  },
  {
   "cell_type": "code",
   "execution_count": 11,
   "metadata": {},
   "outputs": [],
   "source": [
    "from DFP_BSPricing import DFP_BSPricing_Formula\n",
    "from DFP_BSPricing import DFP_BSPricing_MonteCarloDiscrete\n",
    "from DFP_BSPricing import DFP_BSPricing_MonteCarloBB"
   ]
  },
  {
   "cell_type": "code",
   "execution_count": 12,
   "metadata": {},
   "outputs": [
    {
     "name": "stdout",
     "output_type": "stream",
     "text": [
      "\n",
      "Pricing value obtained with Formula(8.3): 3.094389413020969\n",
      "\n",
      "Mean obtained with Brownian-Bridge Monte-Carlo (5000 simulations): 3.133352687049033\n",
      "Standard Deviation obtained with Brownian-Bridge Monte-Carlo: (5000 simulations): 3.415167238597117\n",
      "Standard Error obtained with Brownian-Bridge Monte-Carlo: (5000 simulations): 0.048297758265963144\n",
      "\n",
      "Mean obtained with Discrete Monte-Carlo (5000 simulations, each one with 5476 discrete steps): 3.0031415726520656\n",
      "Standard Deviation obtained with Discrete Monte-Carlo: (5000 simulations, each one with 5476 discrete steps): 3.347886461294235\n",
      "Standard Error obtained with Discrete Monte-Carlo: (5000 simulations, each one with 5476 discrete steps): 0.047346264388475744\n"
     ]
    }
   ],
   "source": [
    "## General Parameters of the Investment\n",
    "\n",
    "#Investment Horizont - Years\n",
    "years = 5\n",
    "\n",
    "#Annual interest rate\n",
    "r = 0.01\n",
    "\n",
    "#Initial value of a single unit\n",
    "S_0 = 20\n",
    "\n",
    "#_____________________________________________#\n",
    "\n",
    "## Dynamic Fund Protection Parameters\n",
    "\n",
    "# K -(constant barrier)\n",
    "K = 16\n",
    "\n",
    "#_____________________________________________#\n",
    "\n",
    "## Model Parameters - Geometric Brownian Motion\n",
    "\n",
    "# Volatility\n",
    "sigma = 0.2\n",
    "\n",
    "#_____________________________________________#\n",
    "\n",
    "## Monte-Carlo Parameters \n",
    "\n",
    "# Number of Discretization Steps per Day - Total number of steps is multiplied by 365 \n",
    "steps_per_day = 3 # (It is used only in the traditional Monte-Carlo) \n",
    "\n",
    "# Number of Simulation Trials\n",
    "n_simulations = 5000\n",
    "\n",
    "#_____________________________________________#\n",
    "\n",
    "## Code parameters\n",
    "dt = 1/(365*steps_per_day)\n",
    "size = int(years/dt) + 1\n",
    "checking_instants = np.array(range(0,size))*dt\n",
    "#_____________________________________________#\n",
    "\n",
    "formula_value = DFP_BSPricing_Formula(S_0, 1, r, sigma, K, 0, years)\n",
    "print()\n",
    "print('Pricing value obtained with Formula(8.3): ' + str(formula_value))\n",
    "\n",
    "print()\n",
    "DFP_BSPricing_MonteCarloBB(n_simulations, S_0, 1, r, sigma, K, years)\n",
    "\n",
    "print()\n",
    "DFP_BSPricing_MonteCarloDiscrete(checking_instants, n_simulations, S_0, 1, r, sigma, K)"
   ]
  },
  {
   "cell_type": "markdown",
   "metadata": {},
   "source": [
    "### Pricing of Dynamic Fund Protections under the CEV Framework "
   ]
  },
  {
   "cell_type": "markdown",
   "metadata": {},
   "source": [
    "The CEV model is a Local-Volatility model. As a consequence, it can be regarded as a generalisation of the Black-Scholes model.\n",
    "\n",
    "Under this model, we assume risky-assets to have the following dynamics:\n",
    "\n",
    "\\begin{equation*} \n",
    "\\ \\it{dS_t} = \\mu S_t\\it{dt} + \\sigma S_t^{\\gamma}\\it{dW_t}\n",
    "\\tag{10}\n",
    "\\end{equation*}\n",
    "\n",
    "where $\\mu$, $\\sigma \\geq 0$, $\\gamma \\geq 0$ are constant parameters. \n",
    "\n",
    "This model attemps to capture the relationship between risky-assets' volatility and their returns. This relationship takes different forms in different markets. In Equity Markets, for example, we usually observe a negative correlation between returns and volatility, it means, volatility usually increases when stock prices fall. Such behavior is captured by CEV dynamics with $\\gamma < 1$. Commodities Markets, on the other hand, usually show the opposite effect: the volatility tends to increase when prices increse. Such behavior is equally captured by CEV dynamics with $\\gamma > 1$. For $\\gamma = 1$, the CEV model resumes to the Black-Scholes model.\n",
    "\n",
    "In this project, we are basically interested in CEV dynamics with $\\gamma < 1$."
   ]
  },
  {
   "cell_type": "markdown",
   "metadata": {},
   "source": [
    "#### Change of Numéraire and Construction of a New Martingale Measure"
   ]
  },
  {
   "cell_type": "markdown",
   "metadata": {},
   "source": [
    "In order to determine a solution for the \"pricing-problem\" of Dynamic Fund Protections Continously Monitored under the CEV framework, we will use similar ideas to those we have developped for the Black-Scholes framework, notably the Neutral-Risk Valuation and the Change of Numéraire technique. \n",
    "\n",
    "In order to avoid working with the joint distribution of $(S_{min}, S_T)$, we will first construct a measure $\\mathbb{Q}_s$ in a similar way we did before. Differently from before, we will no longer work with the process $S$ under the new measure $\\mathbb{Q}_s$, we choose, however, to work with the process $\\frac{K}{S}$ which makes things much easier.\n",
    "\n",
    "All the theorical tools developped up to equation (5.3), including it and equation (7.0), are sufficiently general to be valid in the CEV framework. Therefore, we start here with the CEV dynamics of $S$, under the Neutral-Risk Measure $\\mathbb{Q}$. We consider for this context only constant interest rates. Indeed one can prove it is possible to construct such measure $\\mathbb{Q}$, by showing the existence of $\\Delta$ and showing that the Novikov's condition is satisfied. \n",
    "\n",
    "\\begin{equation*} \n",
    "\\ \\it{dS_t} = rS_t\\it{dt} + \\sigma S_t^{\\gamma}\\it{d}W_t^\\mathbb{Q}\n",
    "\\tag{11.0}\n",
    "\\end{equation*}\n",
    "\n",
    "Using equation (1.0), we can easily express the payoff $X_T$ as:\n",
    "\n",
    "\\begin{equation*} \n",
    "\\ X_T = S_T(\\max\\limits_{s \\in [0,T]}\\frac{K}{S_s} - 1)^+\n",
    "\\tag{11.1}\n",
    "\\end{equation*}\n",
    "\n",
    "As we did before, we will construct a new measure $\\mathbb{Q}_s$ over $\\mathcal {F}$, equivalent to $\\mathbb{Q}$, under which $\\frac{X}{S}$ is a martingale. For this purpose we define a new stochastic process $G = \\{G_t\\}_{t \\in I}$:\n",
    "\n",
    "$$ G_t := exp(\\int_0^t (\\sigma S_u^{\\gamma - 1})\\it{du} - \\frac{1}{2}\\int_0^t (\\sigma S_u^{\\gamma - 1})^2\\it{du}) = \\frac{S_t}{e^{rt}S_0}$$\n",
    "\n",
    "Note that, $G$ is always positive and $G$ is also a martingale over $\\mathbb{Q}$. The martigale property comes from the fact that the discounted value of $S$ is a martingale over $\\mathbb{Q}$. It immediatelly implies that $\\mathbb{E}^{\\mathbb{Q}} [G_T] = 1$. \n",
    "\n",
    "In this context, we define $\\mathbb{Q}_s$ such that:\n",
    "\n",
    "$$\\frac{\\it{d}\\mathbb{Q}_s}{\\it{d}\\mathbb{Q}} = G_T$$\n",
    "\n",
    "where $\\frac{\\it{d}\\mathbb{Q}_s}{\\it{d}\\mathbb{Q}}$ is a Radon-Nikodym derivative.\n",
    "\n",
    "Let $t,u \\in I$ such that: $t < u$. Let Y be some $\\mathcal{F}_u$-measurable random variable. The definitions of $\\mathbb{Q}_s$ and $G$, as well as, the latter's martingale property imply the following equality:\n",
    "\n",
    "$$ \\mathbb{E}^{Q_s}[ Y | \\mathcal{F}_t] = \\frac{1}{G_t}\\mathbb{E}^{Q}[ YG_u | \\mathcal{F}_t] $$\n",
    "\n",
    "Well, by combining this last equality with equation (7.0) and the expression $G_t = \\frac{S_t}{e^{rt}S_0}$, we can  can easily show that $\\frac{X}{S}$ is a martingale under the new measure $\\mathbb{Q}_s$. This gives us a pricing formula for the Dynamic Fund Protection:\n",
    "\n",
    "\\begin{equation*} \n",
    "\\ X_t = S_t\\mathbb{E}^{Q_s} [ \\frac{X_T}{S_T} | \\mathcal{F}_t]\n",
    "\\tag{11.2}\n",
    "\\end{equation*}\n",
    "\n",
    "It leaves with the problem of calculating: $\\mathbb{E}^{Q_s} [(\\max\\limits_{s \\in [0,T]}\\frac{K}{S_s} - 1)^+ | \\mathcal{F}_t]$. In order to do this, let us look at the dynamics of the asset $J:= \\frac{K}{S}$. This can be done by applying the Itô's formula for $f(t,x) = \\frac{K}{x}$. Following this approach, $\\it{d}f(t, S_t)$ is expressed as:\n",
    "\n",
    "$$\\frac{\\it{dJ_t}}{J_t} =  -r\\it{dt} + \\sigma S_t^{\\gamma - 1}[{\\sigma}S_t^{\\gamma - 1}\\it{dt} - \\it{d}W_t^\\mathbb{Q}]$$\n",
    "\n",
    "By the Girsanov's Theorem, we know that the process $W_t^{\\mathbb{Q}_s} := -W_t^\\mathbb{Q} + \\int_0^t {\\sigma}S_u^{\\gamma - 1}\\it{du}$ is a Brownian Motion under the the measure $\\mathbb{Q}_s$. It implies that $J$ has the following CEV dynamics under the new measure $\\mathbb{Q}_s$:\n",
    "\n",
    "\\begin{equation*} \n",
    "\\ \\frac{\\it{dJ_t}}{J_t} =  -r\\it{dt} + \\delta J_t^{1-\\gamma}\\it{d}W_t^{\\mathbb{Q}_s}\n",
    "\\tag{11.3}\n",
    "\\end{equation*}\n",
    "\n",
    "where: $\\delta := {\\sigma}K^{\\gamma - 1}$\n",
    "\n",
    "The change of numéraire technique has transformed our original problem in a much simpler one. From a complicated payoff dealing with two correlated random variables, our problem resumes now to determine: \n",
    "\n",
    "\\begin{equation*} \n",
    "\\ \\mathbb{E}^{Q_s} [(\\max\\limits_{s \\in [0,T]}J_s - 1)^+ | \\mathcal{F}_t]\n",
    "\\tag{11.4}\n",
    "\\end{equation*}\n",
    "\n",
    "This expectation is also calculated when pricing Fixed Strike Lookback European Call options, which allows us to profit from some results already established for them. *Linetsky and Davydov$^{[4]}$* show how to calculate this expectation under CEV dynamics with semi-analytic formulas. We will present their results and develop algorithms to execute the necessary calculations.\n",
    "\n",
    "**Note:**\n",
    "\n",
    "[4]: *D. Davydov & V. Linetsky, Pricing and hedging path-dependent options under the CEV process, 2001*.\n"
   ]
  },
  {
   "cell_type": "markdown",
   "metadata": {},
   "source": [
    "#### Continuous Monitoring - Semi-Analytic Solution"
   ]
  },
  {
   "cell_type": "markdown",
   "metadata": {},
   "source": [
    "Let $G$ represent the complementary cumulative distribution function (CCDF) of the running maximum of $J$. \n",
    "\n",
    "\\begin{equation*} \n",
    "\\ G(y, j, \\tau) := \\mathbb{Q}_s( \\max\\limits_{s \\in [0, \\tau]}J_s \\geq y | J_0 = j)\n",
    "\\tag{12.0}\n",
    "\\end{equation*}\n",
    "\n",
    "Analogously to what we did between equations (8.1) and (8.2), when dealing with expectations in the Black-Scholes framework, one can use $G$ to express:\n",
    "\n",
    "$$\n",
    "\\mathbb{E}^{Q_s} [(\\max\\limits_{s \\in [0,T]}J_s - 1)^+ | \\mathcal{F}_t] =\n",
    "\\left\\{\n",
    "\t\\begin{array}{ll}\n",
    "\t\t\\int_{1}^{\\infty} G(y, J_t,\\tau) \\it{dy}  & \\mbox{if } \\max\\limits_{s \\in [0,t]}J_s \\leq 1 \\\\\n",
    "\t\t\\max\\limits_{s \\in [0,t]}J_s - 1 + \\int_{\\max\\limits_{s \\in [0,t]}J_s}^{\\infty} G(y, J_t,\\tau) \\it{dy} & \\mbox{if } \\max\\limits_{s \\in [0,t]}J_s > 1\n",
    "\t\\end{array}\n",
    "\\right.\n",
    "\\tag{12.1}\n",
    "$$\n",
    "\n",
    "In the Black-Scholes Framework, we had closed formulas concerning the running maximum/minimum CDF of log-normal processes. More than that, we could also calculate analytically the integrals involving these CDF's. This approach is no longer available for the CEV framework. In fact, we are not even sure if there are closed formulas concerning the distribution of running CEV minima/maxima directly.\n",
    "\n",
    "**Smart Trick 1:**\n",
    "\n",
    "Let $\\mathscr{F}_y := \\inf( t \\geq 0 : J_t = y)$. $\\mathscr{F}_y$ is as the first random time when $J$ reaches $y$. \n",
    "\n",
    "Given a fixed $j$, the following identity is true for every $y \\leq j$:\n",
    "\n",
    "\\begin{equation*} \n",
    "\\ G(y, j,\\tau) = \\mathbb{Q}_s( \\max\\limits_{s \\in [0, \\tau]}J_s \\geq y | J_0 = j) = \\mathbb{Q}_s( \\mathscr{F}_y \\leq \\tau | J_0 = j) \n",
    "\\tag{12.2}\n",
    "\\end{equation*}\n",
    "\n",
    "Note that our biggest problem was evaluating $G(y, j, \\tau)$ when $y \\leq j$, otherwise it is trivial. The identity above allows us to transform a *running maximum problem* into a *hitting time problem*. A classical strategy when dealing with **hitting times** is to approach them via their **Laplace Transform**:\n",
    "\n",
    "**Smart Trick 2:**\n",
    "\n",
    "Given a fixed $y \\geq 0$, suppose we were interest in evaluating $h_y(\\alpha, \\tau)$ as follows, for *positive values* of $\\alpha$ and $\\tau$.\n",
    "\n",
    "$$h_y(\\alpha, \\tau) := \\mathbb{E}^{Q_s}[e^{-\\alpha \\mathscr{T}_y} \\mathbb{1}_{\\{\\mathscr{T}_y < \\tau \\}} | J_0 = j]$$ \n",
    "\n",
    "This quantity can be interpreted as the expected discounted payoff of a claim that pays 1 dollar whenever $J$ reaches $y$, if it happens before $\\tau$. The discount is calculated over constant interest rate $\\alpha$.\n",
    "\n",
    "$h_y(\\alpha,\\tau)$ is not an easy expectation to calculate. Rather than calculating it directly, a second *smart trick* we propose is to first look at its *Laplace Transform* with respect to $\\tau$. We will call it $\\mathscr{L}_y(\\alpha,s)$, where $s \\in \\mathbb{C}_+$ and $\\mathbb{C}_+$ designates the right half complex plane.\n",
    "\n",
    "$$ \\mathscr{L}_y(\\alpha,s) = \\int_0^{+\\infty} e^{-s\\tau}h_y(\\alpha,\\tau)\\,\\it{d}\\tau $$\n",
    "\n",
    "As $h_y(\\alpha,\\tau)$ is itself a Lebesgue Integral with respect to $\\mathbb{Q}_s$. With the Tonelli-Fubini theorem, we can interchange the integral operators and easily show that:\n",
    "\n",
    "$$ \\mathscr{L}_y(\\alpha,s) = \\frac{1}{s}\\mathbb{E}^{Q_s}[e^{-(\\alpha + s)\\mathscr{T}_y} | J_0 = j] $$\n",
    "\n",
    "By analyzing $\\mathscr{L}_y(\\alpha,s)$ when $\\alpha \\rightarrow 0^+$, we find a surprisingly interest result:\n",
    "\n",
    "$$ \\lim\\limits_{\\alpha\\to 0^+}\\mathscr{L}_y(\\alpha,s) = \\frac{1}{s}\\mathbb{E}^{Q_s}[e^{-s\\mathscr{T}_y} | J_0 = j] $$\n",
    "\n",
    "but we also have:\n",
    "\n",
    "$$ \\lim\\limits_{\\alpha\\to 0^+}\\mathscr{L}_y(\\alpha,s) = \\int_0^{+\\infty} e^{-s\\tau} \\lim\\limits_{\\alpha\\to 0^+}h_y(\\alpha,\\tau)~\\it{d}\\tau  = \\int_0^{+\\infty} e^{-s\\tau}\\, \\mathbb{Q}_s( \\mathscr{F}_y \\leq \\tau ~| J_0 = j)~\\it{d}\\tau $$\n",
    "\n",
    "The last two equations together imply: \n",
    "\n",
    "\n",
    "$$\\int_0^{+\\infty} e^{-s\\tau}\\, \\mathbb{Q}_s( \\mathscr{F}_y \\leq \\tau ~| J_0 = j)~\\it{d}\\tau = \\frac{1}{s}\\mathbb{E}^{Q_s}[e^{-s\\mathscr{T}_y} | J_0 = j]$$\n",
    "\n",
    "Well, we have just been able to express the *Laplace Transform* of the *CDF* of $\\mathscr{F}_y$ through $\\mathbb{E}^{Q_s}[e^{-s\\mathscr{T}_y} | J_0 = j]$. This is a very great result, as we will see in the next two sections, the first expression can be determined by solving a particular *Second-Order Ordinary Differential Equation*.\n",
    "\n",
    "As a consequence, given a fixed $j$, we will be able to evaluate $G(x, j, \\tau)$ for any values of $\\tau$ and $y \\leq j$ through the inversion of a Laplace Transform. Although, we could not find closed formulas concerning the running maximum/minimum CDF of CEV processes, the *two smart tricks* have enabled us to approach those functions via a Laplace Transform:\n",
    "\n",
    "\\begin{equation*} \n",
    "\\ \\int_0^{+\\infty} e^{-s\\tau}\\, G(y, j,\\tau)~\\it{d}\\tau = \\frac{1}{s}\\mathbb{E}^{Q_s}[e^{-s\\mathscr{T}_y} | J_0 = j] \\quad \\text{for: } y \\leq j\n",
    "\\tag{12.3}\n",
    "\\end{equation*}\n",
    "\n",
    "In fact, what we have done in the section is the first part of what *Linetsky and Davydov$^{[4]}$* propose in their article. The second part is obtaining $\\mathbb{E}^{Q_s}[e^{-s\\mathscr{T}_y} | J_0 = j]$. In order to better understand how this can be done, we present a short discussion on the *Dirichlet Boundary Value Problems* and how stochastic processes may be used to construct solutions for those problems."
   ]
  },
  {
   "cell_type": "markdown",
   "metadata": {},
   "source": [
    "#### Dirichlet Boundary Value Problem - Stochastic Processes Representation of Solutions"
   ]
  },
  {
   "cell_type": "markdown",
   "metadata": {},
   "source": [
    "A remarkable point concerning the theory of Stochastic Processes is the beautiful connexions it shares with the theory of Partial Differential Equations. These connexions are extremely rich and allows us, in many cases, to transform difficult problems into easier ones, by alternating between probabilistic and deterministic approaches.\n",
    "\n",
    "The Dirichlet Problem is a classical problem in the theory of Partial Differential Equations. Consider a given open  region $C$ of $\\mathbb{R}^d$, a given continuous function $M$ over the boundary $\\partial C$ and a PDE. Solving the Dirichlet Problem consists of finding a continuous function $\\phi$ defined over $(C \\cup \\partial C)$, such that $\\phi$ is required to be $\\mathscr{C}^2$ in $C$, to solve the related PDE in $C$ and, to be equal to $M$ at $\\partial C$.\n",
    "\n",
    "The Dirichlet Problem was originally proposed for one particular PDE: the Laplace's Equation. The solutions of the Laplace's Equation are known as Harmonic Functions and they exhibit interesting properties such as the Mean Value property. Alternatively, one can also show that every function exhibiting the Mean Value property is, indeed, harmonic. \n",
    "\n",
    "Due to its rotational invariance and to its Strong Markov property, the Brownian Motion, can be cleverly used as tool to build functions with the Mean Value property, and by consequence, it can be also used to build solutions for the Dirichlet Problem with the Laplace Equation. This approach is very well developped by *Karatzas and Shreve$^{[5]}$* and it consists of a beautiful generalization of a classical technique of *Markov Chains*: *The first step analysis*, used, for exemple, to solve the classical *Gambler's Ruin Problem*.\n",
    "\n",
    "Among all different classes of Stochastic Process the Brownian Motion belongs to, there is a particular class that is really special: Markov Processes. For continuous-time Markov Processess in continuous state-spaces, the concepts of *transition probabilities* and *infinitesimal generators* are intrinsecally linked to the theories of Differential Equations and Differential Operators. As shows the work of K. Itô, we can also establish beautiful connexions between Markov Processes and the theory Stochastic Differential Equations.\n",
    "\n",
    "Given this context, we present one result concerning a particular Dirichlet Boundary Value Problem. As an extention the approach of *Karatzas and Shreve$^{[5]}$*, we present solutions constructed from stochastic problems in the context of more elaborated equations than the Laplace's one.\n",
    "\n",
    "For the purposes of our applications we will focus on *time-homogeneous Itô diffusions*. Let $X = (X_1, ..., X_d)$ be a time-homogeneous Itô diffusion in $\\mathbb{R}^d$ satisfying the following stochastic differential equations:\n",
    "\n",
    "$$\\it{dX_t^i} = b_i(X_t)\\it{dt} + \\sum_{j=1}^{d}a_{ij}(X_t)\\it{d}W_t^i$$\n",
    "\n",
    "We suppose that, for every $i \\in \\{1,...,d\\}$, $b_i$ and the $a_{ij}$'s follow the usuall Lipschitz condition, which garantees the existence and unicity of a strong solution. We remark that $X$ here does not have any relation with the Dynamic Fund Protection value, we just use the same letter.\n",
    "\n",
    "The work of K. Itô shows that $X$ is a continuous and strongly Markovian process. Such a process is completely described by its *infinitesimal generator* $\\mathcal{A}$, an operator that acts over functions belonging to $C_0(\\mathbb{R}^d)$. Thats is, the Banach Space with the sup-norm $||.||_{\\infty}$ composed by real/complex-valued continuous function on $\\mathbb{R}^d$ that vanishes at infinity.\n",
    "\n",
    "For a function $g \\in C_0(\\mathbb{R}^d)$, $\\mathcal{A}$ is defined through the following limit, that always exists:\n",
    "\n",
    "$$\\mathcal{A}g(x) = \\lim\\limits_{t\\to 0^+}\\frac{\\mathbb{E}[ g(X_t) | X_0 = x] - g(x)}{t} $$\n",
    "\n",
    "In particular, if $g \\in C_0(\\mathbb{R}^d)$ and if it is also $\\mathscr{C}^2$, $\\mathcal{A}$ takes the form of a **Second Order Linear Differential Operator**:\n",
    "\n",
    "\\begin{equation*} \n",
    "\\ \\mathcal{A}g(x) = \\sum_{i=1}^{d}b_i(x)\\frac{\\partial g}{\\partial x_i} + \\frac{1}{2}\\sum_{i,j=1}^{d}a_{ij}(x) \\frac{\\partial^2 g}{\\partial x_i \\partial x_j}\n",
    "\\tag{13.0}\n",
    "\\end{equation*}\n",
    "\n",
    "This allows us to state the following result demostrated by *Peskir, Shiryaev $^{[6]}$*:\n",
    "\n",
    "Let the process $X$ start at some point $x \\in C$ and let $ \\tau := inf \\{t \\geq 0: X_t \\notin C\\}$ be the first random time $X$ exits $C$. \n",
    "\n",
    "1) Consider the the following Dirichlet Problem $(C, \\mathcal{A} - \\lambda I, M)$, where $\\lambda: \\mathbb{R}^d \\rightarrow \\mathbb{R}_+ ~ \\text{or} ~ \\mathbb{C}_+$ is a continuous function. \n",
    "\n",
    "\\begin{cases}\n",
    "  \\text{Open Set: } C \\subset \\mathbb{R}^d \n",
    "  \\\\\\text{Partial Differential Equation in } C: \\mathcal{A}f = \\lambda f\n",
    "  \\\\\\text{Continuous Function over the boundary: } M: \\partial C \\rightarrow \\mathbb{R} ~ \\text{or} ~ \\mathbb{C} \\\\\n",
    "\\end{cases}\n",
    "\n",
    "2) Consider the function $u : (C \\cup \\partial C) \\rightarrow \\mathbb{R} ~ \\text{or} ~ \\mathbb{C}$ defined by:\n",
    "\n",
    "\\begin{equation*} \n",
    "\\ u(x) := \\mathbb{E}[e^{-\\int_0^{\\tau}\\lambda(X_s)\\it{ds}} M(X_{\\tau}) | X_0 = x]\n",
    "\\tag{13.1}\n",
    "\\end{equation*}\n",
    "\n",
    "**Theorem:**\n",
    "\n",
    "If $u$ is a $\\mathscr{C}^2$ function, thus:\n",
    "\n",
    "<br/>\n",
    "<dl>\n",
    "  <dd>$(1)$: The function $u$ solves the PDE in $C$ and its equal $M$ in $\\partial C$. </dd>\n",
    "  <dd>$(2)$: If $\\partial C$ is a $\\it{\\text{regular boundary}}$ in the sense boundary classification for stochastic diffusions, one also has that $u$ is continue in $(C \\cup \\partial C)$.</dd>   \n",
    "</dl>\n",
    "\n",
    "**Main Result:**\n",
    "\n",
    "<br/>\n",
    "<dl>\n",
    "  <dd>$(1)$: Hence, if $u$ is a $\\mathscr{C}^2$ function and $\\partial C$ is a $\\it{\\text{regular boundary}}$, therefore $u$ is a solution of the Dirichlet Problem $(C, \\mathcal{A} - \\lambda I, M)$. </dd>\n",
    "  <dd>$(2)$: On the opposite direction, if we know an expression for $u(x)$ and it does satisfy the PDE, therefore, with the $b_i$'s and the $a_{ij}$'s sufficiently smooth, results from the PDE theory ensure $u$ is $\\mathscr{C}^2$.</dd>   \n",
    "</dl>\n",
    "\n",
    "**Note:** \n",
    "\n",
    "We strongly recommend these sources for a reader who has never had a contact with the results we presented. They are intrinsecally connected to the *Strong Markov property* and reveal very beautiful connexions between different theories.\n",
    "\n",
    "[5]: *I. Karatzas & S. Shreve, Brownian Motion and Stochastic Calculus, 1998 - Sections 4.2 A,B,C*.\n",
    "\n",
    "[6]: *G. Peskir & A. Shiryaev, Optimal Stopping and Free-Boundary Problems, 2006 - Sections 4.3, 4.5, 7.1*.\n",
    "\n"
   ]
  },
  {
   "cell_type": "markdown",
   "metadata": {},
   "source": [
    "#### Hitting Time Formulas Obtained from Dirichlet Problem's Solutions"
   ]
  },
  {
   "cell_type": "markdown",
   "metadata": {},
   "source": [
    "In their article, *Linetsky and Davydov$^{[4]}$* first consider a general local volatility process, described the following dynamics:\n",
    "\n",
    "$$\\it{dX_t} = b X_t\\it{dt} + \\sigma(X_t)X_t\\it{dW_t}$$\n",
    "\n",
    "$X$ is a time-homogeneous Itô Diffusion having $(0, \\infty)$ as its state-space.\n",
    "\n",
    "Let $L,U \\in \\mathbb{R}$, such that: $0 \\leq L \\leq U < +\\infty$.\n",
    "\n",
    "*Linetsky and Davydov$^{[4]}$* first propose to study the behavior of the process $X$ when it start between the two barriers $L$ and $U$. They want, therefore, to closer investigate the first hitting times $\\mathscr{T}_L$ and $\\mathscr{T}_U$.\n",
    "\n",
    "As we have shown when we presented the *smart trick 2*, this can be done by calculating one special expectation for each hitting time $\\mathscr{T}_U$ and $\\mathscr{T}_L$. This is the content of equation (12.3). We propose here to calculate such expectations for $\\mathscr{T}_U$ and $\\mathscr{T}_L$:\n",
    "\n",
    "Consider two different *perpetual claims* that pay one dollar at the times $\\mathscr{T}_U$ and $\\mathscr{T}_L$. If discounted over a *constant interest rate $s >0$*, the expected discounted payoffs of these two claims are respectively:\n",
    "\n",
    "\\begin{equation*} \n",
    "\\ \\mathbb{E}[e^{-s\\mathscr{T}_U} | X_0 = x] := u_s(x) ~ \\text{, for } x \\in (0, U)\n",
    "\\tag{14.0}\n",
    "\\end{equation*}\n",
    "\n",
    "$$\\mathbb{E}[e^{-s\\mathscr{T}_L} | X_0 = x] := v_s(x) ~ \\text{, for } x \\in (L, \\infty)$$\n",
    "\n",
    "We assume here that $u_s$ vanishes in $0$ and $v_s$ vanishes in $\\infty$, we also assume are $\\mathscr{C}^2$ functions on their respective domains. Those are very reasonable assumptions concerning $\\mathbb{E}[e^{-s\\mathscr{T}_U} | X_0 = x]$ and $\\mathbb{E}[e^{-s\\mathscr{T}_L} | X_0 = x]$.\n",
    "\n",
    "Well, $u_s$ and $v_s$ should reminds us of the equation (13.1) and the particular Dirichlet Problem we discussed. For this reason, let us analyse the following definitions:\n",
    "\n",
    "$$ \\mathcal{A}g(x) := b x\\frac{dg}{dx} + \\frac{1}{2}\\sigma^2(x)x^2\\frac{d^2g}{dx^2} $$\n",
    "$$ C_1 := (0, U); ~ \\partial C_1 := \\{0, U\\}; ~ M_1(0):=0, M_1(U):=1 $$\n",
    "$$ C_2 := (L, +\\infty); ~ \\partial C_2 := \\{L, +\\infty\\}; ~  M_2(L):=1, M_2(+\\infty):=0 $$\n",
    "\n",
    "In fact, those definitions enable us to define two different Dirichlet Problems pretty like the one we discussed: $(C_1, \\mathcal{A} - sI, M_1)$ and $(C_2, \\mathcal{A} - sI, M_2)$. More than that, $u_s$ and $v_s$ have exactly the same form equation (13.1). \n",
    "\n",
    "**Explanation of Our Reasoning:**\n",
    "\n",
    "<br/>\n",
    "<dl>\n",
    "  <dd>$(1)$: As a consequence of our assumption that $u_s$ and $v_s$ are $\\mathscr{C}^2$, the first assertion presented at the *main result* ensures $u_s$ and $v_s$ satisfy $\\mathcal{A}f(x) = sx$, as well as, their respective boundary conditions, on their respective domain.\n",
    "  <dd>$(2)$: Independently from the first result, we will solve the two different Dirichlet Problems, using only Differential Equations techniques. Supposing we are able to find solutions for the two Dirichlet Problems and verify those are unique $\\mathscr{C}^2$ solutions for their problems, therefore we will be sure the solutions we will have found are necessarly $u_s$ and $v_s$.\n",
    "</dl>\n",
    "\n",
    "Let us first study the *Second-Order Linear Homogeneous Ordinary Differential Equation*: $\\mathcal{A}f(x) - sx = 0$ on the interval $(0, \\infty)$. As $\\sigma(x)$ is supposed to be continuous (suffiently smooth), we know that: there exists a fundamental set of solutions for the equation $\\mathcal{A}f(x) - sx = 0$ in the interval $(0, \\infty)$. \n",
    "\n",
    "Once all particular solutions in $(0, \\infty)$ form a vector space $F$ of dimension 2, they can all be described through 2 linearly independent particular solutions $\\{f_1, f_2\\}$ that form a base of $E$. In particular, if we consider a sub-interval $(c,d) \\subset (0, \\infty)$, note that: $f_1$ and $f_2$ are still two linearly independent solutions of the ODE in the interval $(c,d)$, which implies $\\{f_1, f_2\\}$ is also a base for all solutions in the sub-interval $(c,d)$.\n",
    "\n",
    "Let $\\{f_1, f_2\\}$ be such a base, thus:\n",
    "\n",
    "$$u_s(x) = k_1f_1(x) + k_2v_2(x)~ \\text{, for } x \\in (0, U)\\text{, } k_1, k_2 \\text{ constants}$$\n",
    "$$v_s(x) = p_1f_1(x) + p_2v_2(x)~ \\text{, for } x \\in (L, \\infty) \\text{, } p_1, p_2 \\text{ constants}$$\n",
    "\n",
    "The constants, in turn, are obtained from the boundary conditions imposed over $u_s$ and $v_s$ by their own related Dirichlet Problem: \n",
    "\n",
    "\\begin{cases}\n",
    "  \\  k_1f_1(U) + k_2f_2(U) = 1\n",
    "  \\\\ k_1 \\lim\\limits_{x\\to 0^+}f_1(x) + k_2 \\lim\\limits_{x\\to 0^+}f_2(x) = 0\n",
    "\\end{cases}\n",
    "\n",
    "\\begin{cases}\n",
    "  \\  p_1f_1(L) + p_2f_2(L) = 1\n",
    "  \\\\ p_1 \\lim\\limits_{x\\to\\infty}f_1(x) + p_2 \\lim\\limits_{x\\to\\infty}f_2(x) = 0\n",
    "\\end{cases}\n",
    "\n",
    "This leaves with the challenge to find such a base $\\{f_1, f_2\\}$ defined over $(0, \\infty)$. Thus, *Borodin and Salminen$^{[7]}$* affirm that: there always exists a base $\\{\\psi_s, \\phi_s\\}$ such that $\\psi_s$ is an increasing function and $\\phi_s$ a decreasing function. They also affirm that $\\psi_s$, $\\phi_s$ are uniquely detemined once the conditions $\\lim\\limits_{x\\to 0^+} \\psi_s(x) = 0$ and $\\lim\\limits_{x\\to\\infty}\\phi_s(x) = 0$ are required. The behaviors $\\lim\\limits_{x\\to\\infty} \\psi_s(x)$ and $\\lim\\limits_{x\\to 0^+}\\phi_s(x)$ are a consequence of the behavior of $\\sigma(x)$ as $x$ approaches $0$ and $\\infty$ and can be more precisely discuted. \n",
    "\n",
    "By choosing $\\psi_s = f_1$ and $\\phi_s\\ = f_2$ as the fundamental set of solutions, we obtain immediately: \n",
    "\n",
    "\\begin{equation*} \n",
    "\\ u_s(x) = \\frac{\\psi_s(x)}{\\psi_s(U)} ~ \\text{, for } x\\in (0, U)\n",
    "\\tag{14.1}\n",
    "\\end{equation*}\n",
    "\n",
    "$$v_s(x) = \\frac{\\phi_s(x)}{\\phi_s(L)} ~ \\text{, for } x\\in (L, \\infty)$$\n",
    "\n",
    "Indeed, $u_s$ and $v_s$ are unique solutions for their respective boundary-value problems. Once we have the expressions for $\\phi_s(x)$ and $\\psi_s(x)$, we will be able to verify if $u_s$ and $v_s$ are $\\mathscr{C}^2$ on their respective domains, which would validate the result. In particular, for the CEV dynamics, this is be specially true, as we can verify with the formulas given by *Linetsky and Davydov$^{[4]}$*, displayed at the next section.\n",
    "\n",
    "In particular, $u_s = \\mathbb{E}[e^{-s\\mathscr{T}_U} | X_0 = x]$ is exactly the expectation used in equation (12.3) to express the *Laplace Transform* of the CDF of $\\mathscr{T}_U$.\n",
    "\n",
    "\\begin{equation*} \n",
    "\\ \\int_0^{+\\infty} e^{-s\\tau}Pr( \\mathscr{F}_U \\leq \\tau ~| X_0 = x)~\\it{d}\\tau = \\frac{1}{s}u_s(x) = \\frac{1}{s}\\frac{\\psi_s(x)}{\\psi_s(U)}\n",
    "\\tag{14.2}\n",
    "\\end{equation*}\n",
    "\n",
    "for $s \\in \\mathbb{C}_+$, $x\\in (0, U)$.\n",
    "\n",
    "**Note1:**\n",
    "\n",
    "While deducing the results of this section, we have considered a real constant interest rate $s > 0$. Note however, that, in equation (14.2), we take the result obtained in equation (14.1) and replace the real parameter $s$ for a complex parameter with positive real part. \n",
    "\n",
    "In fact, a real $s >0$ was used to to give the reader an intuition on the quantities we calculated. Note that we could have worked with a complex constant $s \\in \\mathbb{C}_+$, and all the results would remain exactly the same. In this context, we could even think at a *complex interest rate*.\n",
    "\n",
    "In the case of $s \\in \\mathbb{C}_+$, $u_s$ and $v_s$, as well as, the unknown function $f$ on $\\mathcal{A}f(x) - sx = 0$ and the particular solutions $\\psi_s$ and $\\phi_s$ are complex-valued functions defined for real values of x, in open real invervals. \n",
    "\n",
    "As one may check, for the CEV dynamics, Linetsky and Davydov$^{[4]}$ obtain $\\psi_s$ and $\\phi_s$ by reducing the original ODE into well known equations such as the Modified Bessel Equation or the Whittaker's Equation. Those equations can take themselves real or complex parameters. Their solutions, in turn, are given through power series, which can be regarded as holomorphic functions, regardless if their parameters are real or complex. That is all to mean that these solutions take exactly the same form if $s \\in \\mathbb{C}_+$.\n",
    "\n",
    "**Note2:**\n",
    "\n",
    "As an attentive reader may have also noticed, the functions $\\psi_s$ and $\\phi_s$, when define over $(0,\\infty)$, may not belong to $C_0(\\mathbb{R})$ depending on the behavior of $\\sigma(x)$. In this case, the *infinitesimal generator* of $X$ may be not defined for such functions over $(0,\\infty)$. \n",
    "\n",
    "In fact, that does not configure any problem for us, given that we just need the *infinitesimal generator* of $X$ to be defined for $u_s$ and $v_s$, in their respective domains $(0, U)$ and $(L, \\infty)$. In fact, this is the case, as it is described by first assumptions concerning the behavior of $u_s$ and $v_s$. "
   ]
  },
  {
   "cell_type": "markdown",
   "metadata": {},
   "source": [
    "#### Final Results"
   ]
  },
  {
   "cell_type": "markdown",
   "metadata": {},
   "source": [
    "*Linetsky and Davydov$^{[4]}$* provide us closed expressions for $\\phi_s(x)$ and $\\psi_s(x)$ in the case where $\\sigma(x) = ax^\\beta$. The following theorem is demonstrated by them and can be a central tool for pricing path dependend derivatives under CEV dynamics. Actually they will be our main tool for *Dynamic Fund Protections* under this model.\n",
    "\n",
    "<br/>\n",
    "\n",
    "**Theorem:**\n",
    "\n",
    "For three real constants $\\beta \\ne 0$, $a>0$, $b$. For a complex constant $s \\in \\mathbb{C}_+$. The equation \n",
    "\n",
    "$$ \\frac{1}{2}a^2x^{2\\beta + 2}\\frac{d^2f}{dx^2} +  bx\\frac{df}{dx} - sx = 0$$\n",
    "\n",
    "has the following solutions $\\phi_s(x)$ and $\\psi_s(x)$, satisfying the properties imposed by *Borodin and Salminen$^{[7]}$*, discussed above equation (14.1).\n",
    "\n",
    "\n",
    "$$\n",
    "\\psi_s(x) =\n",
    "\\left\\{\n",
    "\t\\begin{array}{ll}\n",
    "\t\tx^{\\beta + \\frac{1}{2}}e^{\\frac{\\epsilon}{2}h(x)} M_{k(s),m}(h(x))  & \\mbox{if } \\beta < 0, b \\ne 0 \\\\\n",
    "        x^{\\beta + \\frac{1}{2}}e^{\\frac{\\epsilon}{2}h(x)} W_{k(s),m}(h(x))  & \\mbox{if } \\beta > 0, b \\ne 0 \\\\\n",
    "        x^{\\frac{1}{2}}I_{\\nu}(\\sqrt{2s}q(x)) & \\mbox{if } \\beta < 0, b = 0 \\\\\n",
    "        x^{\\frac{1}{2}}K_{\\nu}(\\sqrt{2s}q(x)) & \\mbox{if } \\beta > 0, b = 0 \\\\\n",
    "\t\\end{array}\n",
    "\\right.\n",
    "\\tag{12.1}\n",
    "$$\n",
    "\n",
    "$$\n",
    "\\phi_s(x) =\n",
    "\\left\\{\n",
    "\t\\begin{array}{ll}\n",
    "\t\tx^{\\beta + \\frac{1}{2}}e^{\\frac{\\epsilon}{2}h(x)} W_{k(s),m}(h(x))  & \\mbox{if } \\beta < 0, b \\ne 0 \\\\\n",
    "        x^{\\beta + \\frac{1}{2}}e^{\\frac{\\epsilon}{2}h(x)} M_{k(s),m}(h(x))  & \\mbox{if } \\beta > 0, b \\ne 0 \\\\\n",
    "        x^{\\frac{1}{2}}K_{\\nu}(\\sqrt{2s}q(x)) & \\mbox{if } \\beta < 0, b = 0 \\\\\n",
    "        x^{\\frac{1}{2}}I_{\\nu}(\\sqrt{2s}q(x))  & \\mbox{if } \\beta > 0, b = 0 \\\\\n",
    "\t\\end{array}\n",
    "\\right.\n",
    "\\tag{12.1}\n",
    "$$\n",
    "\n",
    "where:\n",
    "\n",
    "\\begin{cases}\n",
    "  \\ \\epsilon := sign(b\\beta) \\quad m := \\frac{1}{4|\\beta|} \\quad  \\nu := \\frac{1}{2|\\beta|} \\quad k(s) := \\epsilon( \\frac{1}{2} + \\frac{1}{4\\beta}) - \\frac{s}{|b\\beta|}\n",
    "  \\\\ h(x) := \\frac{|b|}{a^2|\\beta|}x^{-2\\beta} \\quad q(x) := \\frac{1}{a|\\beta|}x^{-\\beta} \n",
    "  \\\\ M, K \\text{ are respectively the Whittaker functions of first and second kind}\n",
    "  \\\\ I, J \\text{ are respectively the Modified Bessel functions of first and second kind}\\\\\n",
    "\\end{cases}\n",
    "\n",
    "<br/>\n",
    "\n",
    "**Pricing of the CEV Dynamic Fund Protections:**\n",
    "\n",
    "We will first determine the values of $\\beta$, $a$, $b$ corresponding to the dynamics of $J$, according to equation (11.3):\n",
    "\n",
    "$b = -r \\quad a = \\sigma K^{\\gamma - 1} \\quad \\beta = 1 - \\gamma$\n",
    "\n",
    "The value $X_t$ of a Dynamic Fund Protection, under a CEV underlying is given by:\n",
    "\n",
    "$$ X_t = S_t\\{M_t - 1 + \\int_{M_t}^{\\infty} G(y, \\frac{K}{S_t},\\tau) \\it{dy}\\}$$\n",
    "\n",
    "where: $M_t = \\max(1, \\frac{K}{\\min\\limits_{i \\in [0,t]} S_i} )$ \n",
    "\n",
    "To make things clearer, we define the function $L: [M_t, \\infty) \\times \\mathbb{C}_+ \\rightarrow \\mathbb{C}$:\n",
    "\n",
    "$$ L(y,s) := \\frac{1}{s}\\frac{\\psi_s(\\frac{K}{S_t})}{\\psi_s(y)} $$\n",
    "\n",
    "Let $\\mathscr{L}^{-1}\\{ L(y,s)\\}(\\tau)$ be the Inverse Laplace Transform of $L$ with respect to $s$, evaluated at $\\tau$. Then:\n",
    "\n",
    "$$ G(y, \\frac{K}{S_t},\\tau) = \\mathscr{L}^{-1}\\{ L(y,s)\\}(\\tau) $$\n",
    "\n",
    "In order to numerically calculate $X_t$ we need to perform a numerical integration of $G$, with respect to $y$. This involves evaluating $G(y_i, \\frac{K}{S_t},\\tau)$ for $n$ different y_i's. Of course $n$ is a finite number and it is exactly the number of times we will need to perform a Laplace Transform inversion. "
   ]
  },
  {
   "cell_type": "markdown",
   "metadata": {},
   "source": [
    "##### Dynamic Fund Protection Continously Monitored - Pricing Simulations under CEV Framework"
   ]
  },
  {
   "cell_type": "code",
   "execution_count": 13,
   "metadata": {},
   "outputs": [],
   "source": [
    "from math import exp, pow\n",
    "from Plot import plot_CCDF_CEV_RuningMaximum\n",
    "from CEV_Maxima import Integral_G"
   ]
  },
  {
   "cell_type": "code",
   "execution_count": 14,
   "metadata": {},
   "outputs": [],
   "source": [
    "# Process S (CEV)\n",
    "S_0 = 20\n",
    "K = 16\n",
    "M_0 = S_0/K\n",
    "r = 0.01\n",
    "sigma_bs = 0.2\n",
    "tau = 5\n",
    "gamma = 0.5\n",
    "sigma = sigma_bs*pow(S_0, 1-gamma)\n",
    "\n",
    "# Process J (CEV by consequence)\n",
    "b = -r\n",
    "a = sigma*pow(K, gamma - 1)\n",
    "beta = 1 - gamma"
   ]
  },
  {
   "cell_type": "code",
   "execution_count": 15,
   "metadata": {},
   "outputs": [
    {
     "data": {
      "image/png": "[encoded data removed]",
      "text/plain": [
       "<Figure size 1080x576 with 1 Axes>"
      ]
     },
     "metadata": {
      "needs_background": "light"
     },
     "output_type": "display_data"
    }
   ],
   "source": [
    "# In theory, the CCDF of the Running Maximum of J extends to +infinity, but in practice it decays very fast.\n",
    "# We consider, therefore, a right-limit for our applications\n",
    "\n",
    "liminf = M_0\n",
    "\n",
    "# Right limit for plotting\n",
    "limsup_plot = 4\n",
    "\n",
    "# Number of points used to plot the CCDF of the Running Maximum of J\n",
    "n_points = 40\n",
    "\n",
    "plot_CCDF_CEV_RuningMaximum (S_0/K, tau, b, a, beta, liminf, limsup_plot, n_points)"
   ]
  },
  {
   "cell_type": "code",
   "execution_count": 19,
   "metadata": {},
   "outputs": [
    {
     "name": "stdout",
     "output_type": "stream",
     "text": [
      "Price of CEV Dynamic Fund Protection: 19.701374469747535\n"
     ]
    }
   ],
   "source": [
    "# Right limit for integrating the CCDF\n",
    "limsup_integ = 30\n",
    "\n",
    "# Determine price DFP\n",
    "price_DFP = S_0*(M_0 - 1 + Integral_G(S_0/K, tau, b, a, beta, liminf, limsup_integ))\n",
    "\n",
    "print('Price of CEV Dynamic Fund Protection: ' +str(price_DFP))"
   ]
  },
  {
   "cell_type": "code",
   "execution_count": null,
   "metadata": {},
   "outputs": [],
   "source": []
  }
 ],
 "metadata": {
  "kernelspec": {
   "display_name": "Python 3",
   "language": "python",
   "name": "python3"
  },
  "language_info": {
   "codemirror_mode": {
    "name": "ipython",
    "version": 3
   },
   "file_extension": ".py",
   "mimetype": "text/x-python",
   "name": "python",
   "nbconvert_exporter": "python",
   "pygments_lexer": "ipython3",
   "version": "3.6.9"
  }
 },
 "nbformat": 4,
 "nbformat_minor": 4
}
