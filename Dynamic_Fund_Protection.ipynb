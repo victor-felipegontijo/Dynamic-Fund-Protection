{
 "cells": [
  {
   "cell_type": "markdown",
   "metadata": {},
   "source": [
    "# Project: Dynamic Fund Protection - Simulations and Pricing of the Product"
   ]
  },
  {
   "cell_type": "markdown",
   "metadata": {},
   "source": [
    "**By: Victor Felipe Gontijo - Quantitative research intern - BNP Paribas - Paris**\n",
    "\n",
    "**Proposed by: Jean-Philippe Lemor - Head of systematic strategies and hybrids quantitative research team - BNP Paribas - Paris**\n",
    "\n",
    "**July 2020**"
   ]
  },
  {
   "cell_type": "markdown",
   "metadata": {},
   "source": [
    "## Dynamic Fund Protection"
   ]
  },
  {
   "cell_type": "markdown",
   "metadata": {},
   "source": [
    "In this project, we aim to implement some ideas presented in the paper:\n",
    "\n",
    "*Junich Imai, Phelim P. Boyle, Dynamic fund protection. With a discussion by Hans U. Gerber and Elias S. W. Shiu (July, 2001)*\n",
    "\n",
    "We develop here the main concepts involving a derivative product, named *Dynamic Fund Protection*. We intend, therefore, to properly define *Dynamic Fund Protections* as a financial product, to present the motivation around its most common uses and, to determine pricing methods for it. At a second moment, we intend to develop computational tools aimed to numerically determine prices for a *Dynamic Fund Protection* product, as well as, to its performance under different market outcomes."
   ]
  },
  {
   "cell_type": "markdown",
   "metadata": {},
   "source": [
    "## Context and Motivation"
   ]
  },
  {
   "cell_type": "markdown",
   "metadata": {},
   "source": [
    "In the present context, where individuals and instituitions get more and more access to information, they also tend to be increasingly concerned about their future, as well as, the choices they can make, to effectively plan it. In this perspective, financial planning has become a major issue in today's societies and, individuals and institutions are more and more encouraged to look for financial solutions that meet their particular needs, aspirations and future projects.\n",
    "\n",
    "Finance is more than ever adressed with the problem to develop new custom-designed products, fucused on dealing with different kinds of risk, time horizons, and expected returns. The product we present here, the *Dynamic Fund Protection*, was first introduced by: *Gerber and Shiu (1998, 1999)*. It was initially conceived for portfolios based in units/shares of investment funds and, designed to provide protection against downwards moves affecting the value of those units/shares.\n",
    "\n",
    "Investiment funds have been, for a long while, a great alternative, when it comes to get exposition to financial investments. It makes investments much more accessible to general investors and, as a consequence, they reveal themselves as important means of collecting imense quantities of capital, which are immediately driven to reincorporate the economical activity and enhance the potential of the market. As an exemple, we may imagine the huge economical impact of the well-knowns american pension-funds.\n",
    "\n",
    "Investment funds also serve as important tools to regroup several market actors that share the same investment strategies. It makes much easier and effective to track an index, or to invest in small-caps, for example. A fact is: each kind of fund has its own profile, which makes sometimes hard for a particular investor to find a fund meeting exactly his requirements. In order to provide a solution for this issue, many insurance and banking companies have been looking at those requirements and developing products that make them more achievable.\n",
    "\n",
    "Let's approach the \"retirement-problem\", in order to draw an example. This example will lead us to understand a context and a motivation for developing Dynamic Fund Protections.\n",
    "\n",
    "One looking to make financial plannings on his own retirement, is someone who considers to invest, in a long-term perspective, a small part of his periodic income, during the most part of his life. For sure, this person also expects those long-term returns to be certain and high enough to provide him, when he no longer intends to work. \n",
    "\n",
    "For many years, those in a such position would surely look for pension-funds with conservative characteristics. As interest rates have become low, however, such returns were no longer expected to be \"enough\" and people looking for retirement options started shifting to funds with more risky characteristics. Well, as a contrast, the expected returns became no longer \"certain\" as they were. \n",
    "\n",
    "A Dynamic Fund Protection is a financial product designed for someone who intends to limit his losses against downwards moves, that may eventually affect the value of his units, in some investment fund. More than this, the product is also designed to allow such a person to profit, at any time, from the appreciation on the value of his units.\n",
    "\n",
    "When we think about downside protection, it is very natural to think about Put Options. In the context of the example, European Put Options are even more natural to think, once people have usually a determined retirement date. Dynamic Fund Protection, as we may see, works as an extension of a European Put. As the payoff of such options are completely determined by the underlying's price at the maturity date, diferent underlying's paths, with equal prices at the maturity, will have exactly the same payoff.\n",
    "\n",
    "Let's look at the following evolution of prices of a ETF, tracking the *S&P 500* index. Let's analyse how good it would be for a person, if his retirement plan were based in units of this ETF and European Put Options on the *S&P 500*, with srike $K$.\n",
    "\n",
    "<img src=\"files/Scenario1.png\">\n",
    "\n",
    "Evidently, neither would this person profit from his Put Option potential concerning downwards moves, nor would he profit from the market's great recovery. As we may see later, a porfolio with units of the correspondent ETF and a Dynamic Fund Protection is designed to be very performant in this scenario.\n",
    "\n",
    "\n",
    "\n"
   ]
  },
  {
   "cell_type": "markdown",
   "metadata": {},
   "source": [
    "## Definition of the Product"
   ]
  },
  {
   "cell_type": "markdown",
   "metadata": {},
   "source": [
    "Let $[0,T]$ be the interval in which we want to define a Dynamic Fund Protection.\n",
    "\n",
    "Throughout this project, we will consider one derivative and two different portfolios defined over $[0,T]$. Let $X$, $S$ and, $F$ be three stochastic process respectively representing their value over time:\n",
    "\n",
    "<br/>\n",
    "<dl>\n",
    "  <dd>$X$: the value of a Dynamic Fund Protection having $S$ as its underlying.\n",
    "  <dd>$S$: the value of a portfolio composed by $1$ unit of a given investment fund.</dd>\n",
    "  <dd>$F$: the value of portfolio composed by $1$ unit of the same investment fund + the Dynamic Fund Protection $X$.</dd>\n",
    "</dl>\n",
    "\n",
    "Let $K$ be a function of time, defined over $[0,T]$. $K$ may be a deterministic function or even a stochastic process. Intuitively, $K$ is intended to serve as a protection floor.\n",
    "\n",
    "We want to define the Dynamic Fund Protection $X$, such that, the following properties hold:\n",
    "\n",
    "<br/>\n",
    "<dl>\n",
    "  \n",
    "  <dd>$(a)$: $F(0) = S(0)$.</dd>\n",
    "  <dd>$(b)$: If $t \\in [0,T]$ and $F_t > K_t$ $\\Rightarrow \\frac{dF_t}{F_t} = \\frac{dS_t}{S_t}$</dd>\n",
    "  <dd>$(c)$: If $t \\in [0,T]$, $F_t = K_t$, and $\\frac{dS_t}{S_t} \\geq 0$ $\\Rightarrow \\frac{dF_t}{F_t} = \\frac{dS_t}{S_t}$<dd>\n",
    "  <dd>$(d)$: If $t \\in [0,T]$, $F_t = K_t$, and $\\frac{dS_t}{S_t} < 0$ $\\Rightarrow \\frac{dF_t}{F_t} = 0$\n",
    "  \n",
    "</dl>\n",
    "\n",
    "Those properties mean that: $F$ follows the same dynamics of $S$, whenever $S$ is above $K$, in other words, under this condition, they have the same instataneous rate of return. When $S$ is below $K$, $F$ has the same instaneous rate of return than $S$, only when this return points upwards, in the case it points downwards, hence, $F$ does not change its value.\n",
    "\n",
    "Consider some given subset $H \\subseteq [0,T]$. We will call *monitoring points* the elements of $H$.\n",
    "\n",
    "Note that the properties we listed imply: $F_s \\geq K_s$, for every $s \\in H$.\n",
    "\n",
    "Although those properties above can be intuitively understood and really help us capture the main ideia of a Dynamic Fund Protection, they are not mathematically precise. We mean \"not precise\", in the sense that, $dS_t$ and $dF_t$ are not mathematically defined. For this reason, we will choose an elegant, broader and simpler definition:\n",
    "\n",
    "The Dynamic Fund Protection $X$ is a derivative having $S$ as its underlying, such that, at any instant $t\\in [0,T]$:\n",
    "\n",
    "$$ F_t = S_tmax(1, sup_{\\{s \\in [0,t]\\}}(\\frac{K_s}{S_s}) ) $$\n",
    "\n",
    "If we define $S$, $K$, $F$ only over a finite discrete subset $H \\subseteq [0,T]$, the Dynamic Fund Protection $X$ can be also easily defined over $H$. $X$ is such that, at any instant $t\\in H$: \n",
    "\n",
    "$$ F_t = S_tmax(1, max_{\\{s \\in H: s\\leq t\\}}(\\frac{K_s}{S_s}) ) $$\n",
    "\n",
    "We invite the reader to play with these last definitions and convince himself that they really match all the intuitive properties we expected.\n"
   ]
  },
  {
   "cell_type": "markdown",
   "metadata": {},
   "source": [
    "## The unit value as a stochatic process $S$"
   ]
  },
  {
   "cell_type": "markdown",
   "metadata": {},
   "source": [
    "As we have previously seen, $S$ is a well-defined stochastic process. For the purposes of the theory and the applications we intend to develop in this project, we investigate Dynamic Fund Protections under the assumption $S$ is a difusion process, fitting the following general form:\n",
    "\n",
    "\\begin{equation*}\n",
    "\\ \\it{dS_t} = \\mu_t S_t\\it{dt} + \\sigma_t S_t\\it{dW_t}\n",
    "\\label{eq:risky_dynamics} \\tag{2.0}\n",
    "\\end{equation*}\n",
    "\n",
    "**Note**:\n",
    "The reader should note, for example, that the stochastic differential equation above only have a mathematical sense when regarded as an integral equation:\n",
    "\n",
    "$\\it{dS_t} = \\mu_t S_t\\it{dt} + \\sigma_t S_t\\it{dW_t}$ means $S$ is a stochastic process that satifies : $S_{t+u} - S_t = \\int_t^{t+u}S_v\\mu_v\\it{dv} + \\int_t^{t+u}S_v\\sigma_v\\it{dW_v}$ over some considered domain.\n",
    "\n",
    "For the integrals to be well-defined, the processes $S_t\\mu_t$ and $S_t\\sigma_t$ are supposed to be progressive measurable under the filtration generated by the Brownian Motion. Under these reasonable assumptions, the first integral is a Lebesgue's Integral with respect to the Lebesgue measure over the Borel-sets of $\\mathbb{R}$ and the second integral is an Itô's Integral with respect to the Brownian Motion."
   ]
  },
  {
   "cell_type": "markdown",
   "metadata": {},
   "source": [
    "## Simulations of $F$ and $S$ (supposed to be a Geometric Brownian Motion)"
   ]
  },
  {
   "cell_type": "code",
   "execution_count": null,
   "metadata": {},
   "outputs": [],
   "source": []
  }
 ],
 "metadata": {
  "kernelspec": {
   "display_name": "Python 3",
   "language": "python",
   "name": "python3"
  },
  "language_info": {
   "codemirror_mode": {
    "name": "ipython",
    "version": 3
   },
   "file_extension": ".py",
   "mimetype": "text/x-python",
   "name": "python",
   "nbconvert_exporter": "python",
   "pygments_lexer": "ipython3",
   "version": "3.6.9"
  }
 },
 "nbformat": 4,
 "nbformat_minor": 4
}
